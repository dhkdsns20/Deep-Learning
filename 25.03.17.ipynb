{
 "cells": [
  {
   "cell_type": "markdown",
   "id": "cb7e73ea",
   "metadata": {},
   "source": [
    "# List"
   ]
  },
  {
   "cell_type": "code",
   "execution_count": 1,
   "id": "d09125c1",
   "metadata": {},
   "outputs": [
    {
     "name": "stdout",
     "output_type": "stream",
     "text": [
      "[]\n"
     ]
    }
   ],
   "source": [
    "a =[]\n",
    "print(a)"
   ]
  },
  {
   "cell_type": "code",
   "execution_count": 2,
   "id": "3bd624a0",
   "metadata": {},
   "outputs": [
    {
     "name": "stdout",
     "output_type": "stream",
     "text": [
      "[1, 2, 3, 6, 7]\n"
     ]
    }
   ],
   "source": [
    "a = [1,2,3,6,7]\n",
    "print(a)"
   ]
  },
  {
   "cell_type": "code",
   "execution_count": 7,
   "id": "82f00cff",
   "metadata": {},
   "outputs": [
    {
     "name": "stdout",
     "output_type": "stream",
     "text": [
      "['korea', 'kang', 1, 3, 4, [2, 5]] <class 'list'>\n"
     ]
    }
   ],
   "source": [
    "a = ['korea','kang',1,3,4,[2,5]]\n",
    "print(a, type(a))"
   ]
  },
  {
   "cell_type": "code",
   "execution_count": 8,
   "id": "d8cf8310",
   "metadata": {},
   "outputs": [
    {
     "name": "stdout",
     "output_type": "stream",
     "text": [
      "3.5 3 <class 'float'> <class 'int'>\n"
     ]
    }
   ],
   "source": [
    "x = 3.5     \n",
    "y = int(x)                       # c : y =(int)x\n",
    "print(x, y, type(x), type(y))"
   ]
  },
  {
   "cell_type": "code",
   "execution_count": 12,
   "id": "27d79875",
   "metadata": {},
   "outputs": [
    {
     "name": "stdout",
     "output_type": "stream",
     "text": [
      "['h', 'e', 'l', 'l', 'o', ' ', 'w', 'o', 'r', 'l', 'd'] <class 'list'> <class 'str'>\n"
     ]
    }
   ],
   "source": [
    "a = 'hello world'\n",
    "b = list(a)\n",
    "print(b, type(b), type(a))"
   ]
  },
  {
   "cell_type": "code",
   "execution_count": 13,
   "id": "bd2ce697",
   "metadata": {},
   "outputs": [
    {
     "name": "stdout",
     "output_type": "stream",
     "text": [
      "(1, 2, 3) <class 'tuple'>\n",
      "[1, 2, 3] <class 'list'>\n"
     ]
    }
   ],
   "source": [
    "c = (1,2,3)      # c = 1,2,3 : tuple로 간주\n",
    "d = list(c)\n",
    "print(c,type(c))\n",
    "print(d,type(d))"
   ]
  },
  {
   "cell_type": "code",
   "execution_count": 15,
   "id": "e484f335",
   "metadata": {},
   "outputs": [
    {
     "name": "stdout",
     "output_type": "stream",
     "text": [
      "['hello', 'world'] <class 'list'>\n"
     ]
    }
   ],
   "source": [
    "a = 'hello world'\n",
    "e = a.split()\n",
    "print(e, type(e))"
   ]
  },
  {
   "cell_type": "markdown",
   "id": "eb706190",
   "metadata": {},
   "source": [
    "### list : indexing"
   ]
  },
  {
   "cell_type": "code",
   "execution_count": 18,
   "id": "0569e89b",
   "metadata": {},
   "outputs": [
    {
     "name": "stdout",
     "output_type": "stream",
     "text": [
      "1 4 5 4 1\n"
     ]
    }
   ],
   "source": [
    "a = [1,2,3,4,5]\n",
    "print(a[0],a[3],a[-1],a[-2],a[-5])"
   ]
  },
  {
   "cell_type": "code",
   "execution_count": 19,
   "id": "5915f018",
   "metadata": {},
   "outputs": [
    {
     "name": "stdout",
     "output_type": "stream",
     "text": [
      "[100, 2, 3, 4, 5]\n"
     ]
    }
   ],
   "source": [
    "a[0] = 100\n",
    "print(a)"
   ]
  },
  {
   "cell_type": "code",
   "execution_count": 23,
   "id": "7f00a8cc",
   "metadata": {},
   "outputs": [
    {
     "name": "stdout",
     "output_type": "stream",
     "text": [
      "h e d <class 'str'>\n"
     ]
    }
   ],
   "source": [
    "b = 'hello world'\n",
    "print(b[0],b[1],b[-1],type(b))"
   ]
  },
  {
   "cell_type": "code",
   "execution_count": 24,
   "id": "128d188f",
   "metadata": {},
   "outputs": [
    {
     "ename": "TypeError",
     "evalue": "'str' object does not support item assignment",
     "output_type": "error",
     "traceback": [
      "\u001b[1;31m---------------------------------------------------------------------------\u001b[0m",
      "\u001b[1;31mTypeError\u001b[0m                                 Traceback (most recent call last)",
      "\u001b[1;32m~\\AppData\\Local\\Temp/ipykernel_3928/3553302922.py\u001b[0m in \u001b[0;36m<module>\u001b[1;34m\u001b[0m\n\u001b[1;32m----> 1\u001b[1;33m \u001b[0mb\u001b[0m\u001b[1;33m[\u001b[0m\u001b[1;36m0\u001b[0m\u001b[1;33m]\u001b[0m \u001b[1;33m=\u001b[0m \u001b[1;34m'j'\u001b[0m\u001b[1;33m\u001b[0m\u001b[1;33m\u001b[0m\u001b[0m\n\u001b[0m",
      "\u001b[1;31mTypeError\u001b[0m: 'str' object does not support item assignment"
     ]
    }
   ],
   "source": [
    "b[0] = 'j' # string은 직접 바꿀수 없다. *list는 변경가능"
   ]
  },
  {
   "cell_type": "code",
   "execution_count": 25,
   "id": "5660ec7c",
   "metadata": {},
   "outputs": [
    {
     "data": {
      "text/plain": [
       "'jello world'"
      ]
     },
     "execution_count": 25,
     "metadata": {},
     "output_type": "execute_result"
    }
   ],
   "source": [
    "b.replace('h','j')  "
   ]
  },
  {
   "cell_type": "markdown",
   "id": "7a27c6cb",
   "metadata": {},
   "source": [
    "### list : slicing"
   ]
  },
  {
   "cell_type": "code",
   "execution_count": 28,
   "id": "2685a235",
   "metadata": {},
   "outputs": [
    {
     "name": "stdout",
     "output_type": "stream",
     "text": [
      "[2, 3]\n",
      "[1, 2, 3, 4, 5]\n",
      "[2, 3, 4, 5, 6, 7, 8, 9, 10]\n",
      "[1, 2, 3, 4, 5, 6, 7, 8, 9, 10]\n"
     ]
    }
   ],
   "source": [
    "a = [1,2,3,4,5,6,7,8,9,10]\n",
    "print(a[1:3])\n",
    "print(a[:5])\n",
    "print(a[1:])\n",
    "print(a[:])"
   ]
  },
  {
   "cell_type": "markdown",
   "id": "f4d87131",
   "metadata": {},
   "source": [
    "```python\n",
    "a[1:9:2]의 의미\n",
    "for (int i = 1; i < 9; i+=2)\n",
    "```"
   ]
  },
  {
   "cell_type": "code",
   "execution_count": 30,
   "id": "79af7b4e",
   "metadata": {
    "scrolled": true
   },
   "outputs": [
    {
     "data": {
      "text/plain": [
       "[2, 4, 6, 8]"
      ]
     },
     "execution_count": 30,
     "metadata": {},
     "output_type": "execute_result"
    }
   ],
   "source": [
    "a[1:9:2]      # 시작:끝:증가치"
   ]
  },
  {
   "cell_type": "code",
   "execution_count": 32,
   "id": "3da863c4",
   "metadata": {},
   "outputs": [
    {
     "name": "stdout",
     "output_type": "stream",
     "text": [
      "[1, 4, 7, 10]\n"
     ]
    }
   ],
   "source": [
    "b = a[0:10:3]\n",
    "print(b)"
   ]
  },
  {
   "cell_type": "markdown",
   "id": "c6c5d6a8",
   "metadata": {},
   "source": [
    "###  function : append()  * c/c++ vector::pushback()에 해당"
   ]
  },
  {
   "cell_type": "code",
   "execution_count": 34,
   "id": "b7be0dfd",
   "metadata": {},
   "outputs": [
    {
     "name": "stdout",
     "output_type": "stream",
     "text": [
      "[1, 2, 3, 4, 5, 10]\n"
     ]
    }
   ],
   "source": [
    "a = [1,2,3,4,5]\n",
    "a.append(10)\n",
    "print(a)"
   ]
  },
  {
   "cell_type": "code",
   "execution_count": 35,
   "id": "f9646eab",
   "metadata": {},
   "outputs": [
    {
     "name": "stdout",
     "output_type": "stream",
     "text": [
      "[1, 2, 3, 4, 5, [6, 7, 8, 9, 10]]\n",
      "[6, 7, 8, 9, 10]\n"
     ]
    }
   ],
   "source": [
    "a = [1,2,3,4,5]\n",
    "b = [6,7,8,9,10]\n",
    "a.append(b)       # list를 append\n",
    "print(a)\n",
    "print(a[5])       # 하나의 item으로 취급"
   ]
  },
  {
   "cell_type": "code",
   "execution_count": 36,
   "id": "5ef63d45",
   "metadata": {},
   "outputs": [
    {
     "name": "stdout",
     "output_type": "stream",
     "text": [
      "1 2 [6, 7, 8, 9, 10]\n"
     ]
    }
   ],
   "source": [
    "print(a[0],a[1],a[-1])"
   ]
  },
  {
   "cell_type": "markdown",
   "id": "295908b1",
   "metadata": {},
   "source": [
    "### function  : extend()"
   ]
  },
  {
   "cell_type": "code",
   "execution_count": 37,
   "id": "7d34514d",
   "metadata": {},
   "outputs": [
    {
     "name": "stdout",
     "output_type": "stream",
     "text": [
      "[1, 2, 3, 4, 5, 6, 7, 8, 9, 10] 10\n"
     ]
    }
   ],
   "source": [
    "a = [1,2,3,4,5]\n",
    "b = [6,7,8,9,10]\n",
    "a.extend(b)  \n",
    "print(a,a[-1])"
   ]
  },
  {
   "cell_type": "code",
   "execution_count": 40,
   "id": "136d8d13",
   "metadata": {},
   "outputs": [
    {
     "name": "stdout",
     "output_type": "stream",
     "text": [
      "[1, 2, 3, 4, 5, 6, 7, 8, 9, 10]\n"
     ]
    }
   ],
   "source": [
    "a = [1,2,3,4,5]\n",
    "b = [6,7,8,9,10]\n",
    "a += b           # a = a + b , a.extend()와 동일 \n",
    "print(a)"
   ]
  },
  {
   "cell_type": "markdown",
   "id": "49612857",
   "metadata": {},
   "source": [
    "### functions : insert(), remove()"
   ]
  },
  {
   "cell_type": "code",
   "execution_count": 42,
   "id": "a9a41903",
   "metadata": {},
   "outputs": [
    {
     "name": "stdout",
     "output_type": "stream",
     "text": [
      "[1, 10, 2, 3, 4, 5]\n"
     ]
    }
   ],
   "source": [
    "a = [1,2,3,4,5]\n",
    "a.insert(1,10)    # a[1]에 10을 삽입\n",
    "print(a)"
   ]
  },
  {
   "cell_type": "code",
   "execution_count": 43,
   "id": "b4b3cf5a",
   "metadata": {},
   "outputs": [
    {
     "ename": "ValueError",
     "evalue": "list.remove(x): x not in list",
     "output_type": "error",
     "traceback": [
      "\u001b[1;31m---------------------------------------------------------------------------\u001b[0m",
      "\u001b[1;31mValueError\u001b[0m                                Traceback (most recent call last)",
      "\u001b[1;32m~\\AppData\\Local\\Temp/ipykernel_3928/1689416482.py\u001b[0m in \u001b[0;36m<module>\u001b[1;34m\u001b[0m\n\u001b[0;32m      1\u001b[0m \u001b[0ma\u001b[0m \u001b[1;33m=\u001b[0m \u001b[1;33m[\u001b[0m\u001b[1;36m1\u001b[0m\u001b[1;33m,\u001b[0m\u001b[1;36m2\u001b[0m\u001b[1;33m,\u001b[0m\u001b[1;36m3\u001b[0m\u001b[1;33m,\u001b[0m\u001b[1;36m4\u001b[0m\u001b[1;33m,\u001b[0m\u001b[1;36m5\u001b[0m\u001b[1;33m]\u001b[0m\u001b[1;33m\u001b[0m\u001b[1;33m\u001b[0m\u001b[0m\n\u001b[1;32m----> 2\u001b[1;33m \u001b[0ma\u001b[0m\u001b[1;33m.\u001b[0m\u001b[0mremove\u001b[0m\u001b[1;33m(\u001b[0m\u001b[1;36m20\u001b[0m\u001b[1;33m)\u001b[0m\u001b[1;33m\u001b[0m\u001b[1;33m\u001b[0m\u001b[0m\n\u001b[0m\u001b[0;32m      3\u001b[0m \u001b[0mprint\u001b[0m\u001b[1;33m(\u001b[0m\u001b[0ma\u001b[0m\u001b[1;33m)\u001b[0m\u001b[1;33m\u001b[0m\u001b[1;33m\u001b[0m\u001b[0m\n",
      "\u001b[1;31mValueError\u001b[0m: list.remove(x): x not in list"
     ]
    }
   ],
   "source": [
    "a = [1,2,3,4,5]\n",
    "a.remove(20)  \n",
    "print(a)"
   ]
  },
  {
   "cell_type": "code",
   "execution_count": 56,
   "id": "d263cad4",
   "metadata": {},
   "outputs": [
    {
     "name": "stdout",
     "output_type": "stream",
     "text": [
      "[1, 2, 4, 5]\n"
     ]
    }
   ],
   "source": [
    "a = [1,2,2,4,5]\n",
    "a.remove(2)  \n",
    "print(a)"
   ]
  },
  {
   "cell_type": "markdown",
   "id": "e8058f95",
   "metadata": {},
   "source": [
    "### functions : pop(), index()"
   ]
  },
  {
   "cell_type": "code",
   "execution_count": 66,
   "id": "1a6eb47e",
   "metadata": {},
   "outputs": [
    {
     "name": "stdout",
     "output_type": "stream",
     "text": [
      "[1, 2, 2, 4, 5, 100]\n",
      "[1, 2, 2, 4, 5]\n"
     ]
    }
   ],
   "source": [
    "a = [1, 2, 2, 4, 5]\n",
    "a.append(100)\n",
    "print(a)\n",
    "a.pop()      # default는 pop(-1) \n",
    "print(a)"
   ]
  },
  {
   "cell_type": "code",
   "execution_count": 69,
   "id": "80049a81",
   "metadata": {},
   "outputs": [
    {
     "name": "stdout",
     "output_type": "stream",
     "text": [
      "[1, 2, 4, 5] 2\n"
     ]
    }
   ],
   "source": [
    "a = [1, 2, 2, 4, 5]\n",
    "b= a.pop(1)    # 1 은 index에 해당  \n",
    "print(a,b)"
   ]
  },
  {
   "cell_type": "code",
   "execution_count": 70,
   "id": "3680e31c",
   "metadata": {},
   "outputs": [
    {
     "name": "stdout",
     "output_type": "stream",
     "text": [
      "2\n"
     ]
    }
   ],
   "source": [
    "a = [10, 20, 30, 30, 50]\n",
    "b = a.index(30)\n",
    "print(b)"
   ]
  },
  {
   "cell_type": "markdown",
   "id": "fa16cd0a",
   "metadata": {},
   "source": [
    "### keyword : in , sort() , sorted()"
   ]
  },
  {
   "cell_type": "code",
   "execution_count": 74,
   "id": "b166db71",
   "metadata": {},
   "outputs": [
    {
     "name": "stdout",
     "output_type": "stream",
     "text": [
      "[-1, 0, 2, 3, 5, 8, 9]\n"
     ]
    }
   ],
   "source": [
    "a = [0, 2, 8, 3, 5, 9, -1]\n",
    "a.sort()\n",
    "print(a)"
   ]
  },
  {
   "cell_type": "code",
   "execution_count": 75,
   "id": "5d2400b0",
   "metadata": {},
   "outputs": [
    {
     "name": "stdout",
     "output_type": "stream",
     "text": [
      "[9, 8, 5, 3, 2, 0, -1]\n"
     ]
    }
   ],
   "source": [
    "b = [0, 2, 8, 3, 5, 9, -1]\n",
    "b.sort(reverse = True)\n",
    "print(b)"
   ]
  },
  {
   "cell_type": "code",
   "execution_count": 80,
   "id": "072813b8",
   "metadata": {},
   "outputs": [
    {
     "name": "stdout",
     "output_type": "stream",
     "text": [
      "[-1, 0, 2, 3, 5, 8, 9]\n",
      "[9, 8, 5, 3, 2, 0, -1]\n",
      "[9, 8, 5, 3, 2, 0, -1]\n"
     ]
    }
   ],
   "source": [
    "# 중요\n",
    "\n",
    "a = [0, 2, 8, 3, 5, 9, -1]\n",
    "b = a    # (해결책) b = a.copy() : deep copy\n",
    "a.sort()\n",
    "print(a)\n",
    "\n",
    "b.sort(reverse = True) # a의 주소를 받으므로 b를 수정하면 a도 같이 수정된다.\n",
    "print(a)\n",
    "print(b)"
   ]
  },
  {
   "cell_type": "markdown",
   "id": "395e8859",
   "metadata": {},
   "source": [
    "### tuple"
   ]
  },
  {
   "cell_type": "code",
   "execution_count": 85,
   "id": "ee46c85b",
   "metadata": {},
   "outputs": [
    {
     "name": "stdout",
     "output_type": "stream",
     "text": [
      "<class 'tuple'>\n",
      "1 3\n"
     ]
    }
   ],
   "source": [
    "b = (1, 2, 3)\n",
    "print(type(b))\n",
    "print(b[0],b[-1])   # indexing은 동일"
   ]
  },
  {
   "cell_type": "code",
   "execution_count": 86,
   "id": "0a8dc921",
   "metadata": {},
   "outputs": [
    {
     "name": "stdout",
     "output_type": "stream",
     "text": [
      "<class 'list'>\n",
      "[100, 2, 3]\n"
     ]
    }
   ],
   "source": [
    "a = [1, 2, 3]\n",
    "print(type(a))\n",
    "\n",
    "a[0] = 100  # list는 변수\n",
    "print(a)"
   ]
  },
  {
   "cell_type": "code",
   "execution_count": 87,
   "id": "2c54876c",
   "metadata": {},
   "outputs": [
    {
     "ename": "TypeError",
     "evalue": "'tuple' object does not support item assignment",
     "output_type": "error",
     "traceback": [
      "\u001b[1;31m---------------------------------------------------------------------------\u001b[0m",
      "\u001b[1;31mTypeError\u001b[0m                                 Traceback (most recent call last)",
      "\u001b[1;32m~\\AppData\\Local\\Temp/ipykernel_3928/3962559064.py\u001b[0m in \u001b[0;36m<module>\u001b[1;34m\u001b[0m\n\u001b[1;32m----> 1\u001b[1;33m \u001b[0mb\u001b[0m\u001b[1;33m[\u001b[0m\u001b[1;36m0\u001b[0m\u001b[1;33m]\u001b[0m \u001b[1;33m=\u001b[0m \u001b[1;36m100\u001b[0m  \u001b[1;31m# tuple은 상수 (변경 불가)\u001b[0m\u001b[1;33m\u001b[0m\u001b[1;33m\u001b[0m\u001b[0m\n\u001b[0m",
      "\u001b[1;31mTypeError\u001b[0m: 'tuple' object does not support item assignment"
     ]
    }
   ],
   "source": [
    "b[0] = 100  # tuple은 상수 (변경 불가)"
   ]
  },
  {
   "cell_type": "code",
   "execution_count": 88,
   "id": "77e8ec15",
   "metadata": {},
   "outputs": [
    {
     "name": "stdout",
     "output_type": "stream",
     "text": [
      "[100, 2, 3] <class 'list'>\n"
     ]
    }
   ],
   "source": [
    "# 수정을 원할시\n",
    "b = list(b)\n",
    "b[0] = 100\n",
    "print(b,type(b))"
   ]
  },
  {
   "cell_type": "code",
   "execution_count": 92,
   "id": "0164a723",
   "metadata": {},
   "outputs": [
    {
     "name": "stdout",
     "output_type": "stream",
     "text": [
      "(100, 2, 3) <class 'tuple'>\n"
     ]
    }
   ],
   "source": [
    "c = tuple(b)\n",
    "print(c,type(c))"
   ]
  },
  {
   "cell_type": "code",
   "execution_count": 99,
   "id": "723a2c11",
   "metadata": {},
   "outputs": [
    {
     "name": "stdout",
     "output_type": "stream",
     "text": [
      "100 200 300 400\n",
      "200 100\n"
     ]
    }
   ],
   "source": [
    "a, b, c, d = 100, 200, 300, 400\n",
    "print(a, b, c, d)\n"
   ]
  },
  {
   "cell_type": "code",
   "execution_count": 98,
   "id": "5429d524",
   "metadata": {},
   "outputs": [
    {
     "name": "stdout",
     "output_type": "stream",
     "text": [
      "200 100\n"
     ]
    }
   ],
   "source": [
    "a, b = 100, 200  \n",
    "a, b = b, a # swap\n",
    "print(a, b)"
   ]
  },
  {
   "cell_type": "code",
   "execution_count": null,
   "id": "19fc12dc",
   "metadata": {},
   "outputs": [],
   "source": []
  }
 ],
 "metadata": {
  "kernelspec": {
   "display_name": "Python 3 (ipykernel)",
   "language": "python",
   "name": "python3"
  },
  "language_info": {
   "codemirror_mode": {
    "name": "ipython",
    "version": 3
   },
   "file_extension": ".py",
   "mimetype": "text/x-python",
   "name": "python",
   "nbconvert_exporter": "python",
   "pygments_lexer": "ipython3",
   "version": "3.9.7"
  }
 },
 "nbformat": 4,
 "nbformat_minor": 5
}
