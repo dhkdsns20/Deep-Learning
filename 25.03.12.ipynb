{
 "cells": [
  {
   "cell_type": "code",
   "execution_count": 5,
   "id": "81956a23",
   "metadata": {},
   "outputs": [],
   "source": [
    "a = 10    # 정수형 변수\n",
    "b = 11.4  # 실수형 변수"
   ]
  },
  {
   "cell_type": "code",
   "execution_count": 6,
   "id": "a6133ff7",
   "metadata": {},
   "outputs": [
    {
     "name": "stdout",
     "output_type": "stream",
     "text": [
      "<class 'int'> <class 'float'>\n"
     ]
    }
   ],
   "source": [
    "print(type(a), type(b))"
   ]
  },
  {
   "cell_type": "code",
   "execution_count": 13,
   "id": "00acd099",
   "metadata": {
    "scrolled": true
   },
   "outputs": [
    {
     "name": "stdout",
     "output_type": "stream",
     "text": [
      "10 11.4\n",
      "10 100 200 11.4\n",
      "10, 100, 200, 11.4---------"
     ]
    },
    {
     "data": {
      "text/plain": [
       "(10, 11.4)"
      ]
     },
     "execution_count": 13,
     "metadata": {},
     "output_type": "execute_result"
    }
   ],
   "source": [
    "print(a, b)\n",
    "b                                   # 중간에 적으면 출력 x\n",
    "                                    # the last variable only is printed out\n",
    "print(a, 100, 200, b)\n",
    "print(a, 100, 200, b, sep=', ', end='---------') # seperation , end mark\n",
    "a, b"
   ]
  },
  {
   "cell_type": "code",
   "execution_count": 12,
   "id": "e2ed92a5",
   "metadata": {},
   "outputs": [
    {
     "data": {
      "text/plain": [
       "(10, 11.4)"
      ]
     },
     "execution_count": 12,
     "metadata": {},
     "output_type": "execute_result"
    }
   ],
   "source": [
    "a, b    # print 와 출력 형태가 다르다."
   ]
  },
  {
   "cell_type": "markdown",
   "id": "533dc199",
   "metadata": {},
   "source": [
    "## None type data\n",
    "```python\n",
    "int c;\n",
    "if(true){\n",
    "    c = 100;\n",
    "}\n",
    "printf(\"%d \\n\", c);\n",
    "\n",
    "```"
   ]
  },
  {
   "cell_type": "code",
   "execution_count": 17,
   "id": "94807404",
   "metadata": {
    "scrolled": true
   },
   "outputs": [
    {
     "name": "stdout",
     "output_type": "stream",
     "text": [
      "100\n"
     ]
    }
   ],
   "source": [
    "c = None\n",
    "if True :\n",
    "    c = 100\n",
    "print(c)"
   ]
  },
  {
   "cell_type": "code",
   "execution_count": 18,
   "id": "4572dfb3",
   "metadata": {},
   "outputs": [],
   "source": [
    "a = 10\n",
    "b = 11.4\n",
    "c = None"
   ]
  },
  {
   "cell_type": "code",
   "execution_count": 22,
   "id": "b1c792f2",
   "metadata": {},
   "outputs": [
    {
     "name": "stdout",
     "output_type": "stream",
     "text": [
      "False <class 'bool'>\n"
     ]
    }
   ],
   "source": [
    "c = a > b\n",
    "print(c, type(c))"
   ]
  },
  {
   "cell_type": "code",
   "execution_count": 23,
   "id": "c36f8b22",
   "metadata": {},
   "outputs": [
    {
     "data": {
      "text/plain": [
       "(False, bool)"
      ]
     },
     "execution_count": 23,
     "metadata": {},
     "output_type": "execute_result"
    }
   ],
   "source": [
    "c, type(c)"
   ]
  },
  {
   "cell_type": "markdown",
   "id": "5b00bffa",
   "metadata": {},
   "source": [
    "#### $a^b$ 의 계산"
   ]
  },
  {
   "cell_type": "code",
   "execution_count": 29,
   "id": "43d61b73",
   "metadata": {},
   "outputs": [
    {
     "data": {
      "text/plain": [
       "8"
      ]
     },
     "execution_count": 29,
     "metadata": {},
     "output_type": "execute_result"
    }
   ],
   "source": [
    "a, b, c = 2, 3, None\n",
    "a**b"
   ]
  },
  {
   "cell_type": "markdown",
   "id": "e01d9a28",
   "metadata": {},
   "source": [
    "# string"
   ]
  },
  {
   "cell_type": "code",
   "execution_count": 36,
   "id": "6aa28f3f",
   "metadata": {},
   "outputs": [
    {
     "name": "stdout",
     "output_type": "stream",
     "text": [
      "'hello' world !!! , \"hello\" world !!! , <class 'str'> , <class 'str'>\n"
     ]
    }
   ],
   "source": [
    "c = \"'hello' world !!!\"\n",
    "d = '\"hello\" world !!!'\n",
    "\n",
    "print(c, d, type(c), type(d), sep=' , ')"
   ]
  },
  {
   "cell_type": "code",
   "execution_count": 40,
   "id": "02178ff5",
   "metadata": {
    "scrolled": false
   },
   "outputs": [
    {
     "name": "stdout",
     "output_type": "stream",
     "text": [
      "`hello'\n",
      "\n",
      "world !!!\n",
      "\"hello\"\n",
      "\n",
      "world !!!\n"
     ]
    }
   ],
   "source": [
    "c = \"\"\"`hello'\n",
    "\n",
    "world !!!\"\"\"\n",
    "\n",
    "d = '''\"hello\"\n",
    "\n",
    "world !!!'''\n",
    "\n",
    "print(c)\n",
    "print(d)"
   ]
  },
  {
   "cell_type": "code",
   "execution_count": null,
   "id": "1587955f",
   "metadata": {},
   "outputs": [],
   "source": [
    "a = 'hello world'\n",
    "print(a)\n",
    "print(a[0])\n",
    "print(a[10])\n",
    "print(a[-1])\n",
    "print(a[-2])\n",
    "print(a[-11])"
   ]
  },
  {
   "cell_type": "markdown",
   "id": "a149d01a",
   "metadata": {},
   "source": [
    "### Slicing"
   ]
  },
  {
   "cell_type": "code",
   "execution_count": 45,
   "id": "a56a6058",
   "metadata": {},
   "outputs": [
    {
     "name": "stdout",
     "output_type": "stream",
     "text": [
      "h\n",
      "hell\n",
      "ello w\n"
     ]
    }
   ],
   "source": [
    "a = 'hello world'\n",
    "print(a[0:1])\n",
    "print(a[0:4])\n",
    "print(a[1:7]) # for(int i = 1; i<7; i++){}"
   ]
  },
  {
   "cell_type": "code",
   "execution_count": 46,
   "id": "823950b9",
   "metadata": {
    "scrolled": true
   },
   "outputs": [
    {
     "name": "stdout",
     "output_type": "stream",
     "text": [
      "hell\n",
      "lo world\n"
     ]
    }
   ],
   "source": [
    "print(a[:4])\n",
    "print(a[3:])"
   ]
  },
  {
   "cell_type": "code",
   "execution_count": 47,
   "id": "9be84e88",
   "metadata": {
    "scrolled": true
   },
   "outputs": [
    {
     "name": "stdout",
     "output_type": "stream",
     "text": [
      "hello world\n"
     ]
    }
   ],
   "source": [
    "print(a[:])"
   ]
  },
  {
   "cell_type": "markdown",
   "id": "d7e6e6b2",
   "metadata": {},
   "source": [
    "### functions : upper(), replace()"
   ]
  },
  {
   "cell_type": "code",
   "execution_count": 59,
   "id": "f9919071",
   "metadata": {},
   "outputs": [],
   "source": [
    "a = 'heLLo world'\n",
    "b = a.upper()      # a.upper()를 한다고 해서 a가 바뀌지는 않음."
   ]
  },
  {
   "cell_type": "code",
   "execution_count": 60,
   "id": "02bae241",
   "metadata": {
    "scrolled": true
   },
   "outputs": [
    {
     "name": "stdout",
     "output_type": "stream",
     "text": [
      "heLLo world\n",
      "HELLO WORLD\n"
     ]
    }
   ],
   "source": [
    "print(a)\n",
    "print(b)"
   ]
  },
  {
   "cell_type": "code",
   "execution_count": 63,
   "id": "27278179",
   "metadata": {
    "scrolled": true
   },
   "outputs": [
    {
     "name": "stdout",
     "output_type": "stream",
     "text": [
      "heLLo world hello world\n"
     ]
    }
   ],
   "source": [
    "c = b.lower()"
   ]
  },
  {
   "cell_type": "code",
   "execution_count": 64,
   "id": "7e65ca02",
   "metadata": {},
   "outputs": [
    {
     "name": "stdout",
     "output_type": "stream",
     "text": [
      "heLLo world hello world\n"
     ]
    }
   ],
   "source": [
    "print(a, c)"
   ]
  },
  {
   "cell_type": "code",
   "execution_count": 70,
   "id": "bc72c61e",
   "metadata": {},
   "outputs": [],
   "source": [
    "d = a.replace('LL','llxxx') # 'LL' -> 'll'"
   ]
  },
  {
   "cell_type": "code",
   "execution_count": 71,
   "id": "83be547a",
   "metadata": {},
   "outputs": [
    {
     "name": "stdout",
     "output_type": "stream",
     "text": [
      "heLLo world hellxxxo world\n"
     ]
    }
   ],
   "source": [
    "print(a, d)"
   ]
  },
  {
   "cell_type": "code",
   "execution_count": 66,
   "id": "a133e41d",
   "metadata": {},
   "outputs": [
    {
     "data": {
      "text/plain": [
       "'HELLO WORLD'"
      ]
     },
     "execution_count": 66,
     "metadata": {},
     "output_type": "execute_result"
    }
   ],
   "source": [
    "b.replace('h','hhh') # 'h' x -> string is unchanged"
   ]
  },
  {
   "cell_type": "markdown",
   "id": "35665525",
   "metadata": {},
   "source": [
    "### functions : format(), split()"
   ]
  },
  {
   "cell_type": "code",
   "execution_count": 75,
   "id": "060f958c",
   "metadata": {},
   "outputs": [
    {
     "name": "stdout",
     "output_type": "stream",
     "text": [
      "오늘 기온 25.5, 비올 확률 80.8%\n"
     ]
    }
   ],
   "source": [
    "temp = 25.5\n",
    "prob = 80.8\n",
    "a = '오늘 기온 {}, 비올 확률 {}%'. format(temp,prob)\n",
    "print(a)"
   ]
  },
  {
   "cell_type": "code",
   "execution_count": 76,
   "id": "fb16d035",
   "metadata": {},
   "outputs": [
    {
     "data": {
      "text/plain": [
       "['오늘', '기온', '25.5,', '비올', '확률', '80.8%']"
      ]
     },
     "execution_count": 76,
     "metadata": {},
     "output_type": "execute_result"
    }
   ],
   "source": [
    "a.split()"
   ]
  },
  {
   "cell_type": "code",
   "execution_count": null,
   "id": "48aea18f",
   "metadata": {},
   "outputs": [],
   "source": []
  }
 ],
 "metadata": {
  "kernelspec": {
   "display_name": "Python 3 (ipykernel)",
   "language": "python",
   "name": "python3"
  },
  "language_info": {
   "codemirror_mode": {
    "name": "ipython",
    "version": 3
   },
   "file_extension": ".py",
   "mimetype": "text/x-python",
   "name": "python",
   "nbconvert_exporter": "python",
   "pygments_lexer": "ipython3",
   "version": "3.9.7"
  }
 },
 "nbformat": 4,
 "nbformat_minor": 5
}
