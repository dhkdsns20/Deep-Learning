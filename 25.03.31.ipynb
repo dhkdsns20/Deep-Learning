{
 "cells": [
  {
   "cell_type": "markdown",
   "id": "881dabaf-ee93-4b1c-b241-275ff1c0c5d6",
   "metadata": {},
   "source": [
    "# [class]"
   ]
  },
  {
   "cell_type": "markdown",
   "id": "f8eb2474-388c-4f3b-9a82-5d276bb92013",
   "metadata": {},
   "source": [
    "## Constructor : __init__()"
   ]
  },
  {
   "cell_type": "code",
   "execution_count": 14,
   "id": "ac3981fe-02e8-49f9-a379-e310ba5c9e12",
   "metadata": {},
   "outputs": [],
   "source": [
    "class Person:\n",
    "    def __init__(self,name):\n",
    "        print(self, name, \"is generated\")"
   ]
  },
  {
   "cell_type": "code",
   "execution_count": 15,
   "id": "626bf5b3-340e-4e52-9b61-9988f165d94e",
   "metadata": {},
   "outputs": [
    {
     "name": "stdout",
     "output_type": "stream",
     "text": [
      "<__main__.Person object at 0x000001431F2DF5F0> Hong is generated\n"
     ]
    }
   ],
   "source": [
    "p1 = Person('Hong')"
   ]
  },
  {
   "cell_type": "markdown",
   "id": "3bef277a-0529-40ae-a921-e3a5e1ab9aa8",
   "metadata": {},
   "source": [
    "## Members and their initialization"
   ]
  },
  {
   "cell_type": "code",
   "execution_count": 16,
   "id": "493bfd25-1de6-4fd8-af9f-6483efe069a9",
   "metadata": {},
   "outputs": [],
   "source": [
    "class Person2:\n",
    "    def __init__(self,name,age = 10):\n",
    "        print(self, \"is generated\")\n",
    "        self.name = name\n",
    "        self.age = age\n",
    "        self.hobby = 'singing'"
   ]
  },
  {
   "cell_type": "code",
   "execution_count": 12,
   "id": "e1cb718b-3006-4844-b2a4-a9bb57e68bff",
   "metadata": {},
   "outputs": [
    {
     "name": "stdout",
     "output_type": "stream",
     "text": [
      "<__main__.Person2 object at 0x000001431F67C9B0> is generated\n",
      "<__main__.Person2 object at 0x000001431F686660> is generated\n",
      "<__main__.Person2 object at 0x000001431F67E570> is generated\n"
     ]
    }
   ],
   "source": [
    "p1 = Person2('Bob',30)\n",
    "p2 = Person2('Hong',52)\n",
    "p3 = Person2('Kim')       # age가 없음\n",
    "p1.hobby = 'Tennis'"
   ]
  },
  {
   "cell_type": "code",
   "execution_count": 13,
   "id": "10d1318a-a58b-47ed-a6cf-fbbc5ae5004e",
   "metadata": {},
   "outputs": [
    {
     "name": "stdout",
     "output_type": "stream",
     "text": [
      "Bob 30 Tennis\n",
      "Hong 52 singing\n",
      "Kim 10 singing\n"
     ]
    }
   ],
   "source": [
    "print(p1.name, p1.age, p1.hobby)   # hobby : Tennis로 변경됨\n",
    "print(p2.name, p2.age, p2.hobby)\n",
    "print(p3.name, p3.age, p3.hobby)   # age : default값으로 설정됨"
   ]
  },
  {
   "cell_type": "markdown",
   "id": "3df7e9c2-f176-4ac3-bc94-beb758e511b6",
   "metadata": {},
   "source": [
    "## Instance method"
   ]
  },
  {
   "cell_type": "code",
   "execution_count": 17,
   "id": "48cbf30d-1aea-4848-9394-bd7a3a708619",
   "metadata": {},
   "outputs": [],
   "source": [
    "class Counter:\n",
    "    def __init__(self, num):\n",
    "        self.num =num\n",
    "        \n",
    "    def Increment(self):\n",
    "        self.num += 1\n",
    "\n",
    "    def Reset(self):\n",
    "        self.num = 0\n",
    "\n",
    "    def InputValue(self,num):\n",
    "        self.num = num\n",
    "\n",
    "    def PrintCurrentValue(self):\n",
    "        print('value = ', self.num)"
   ]
  },
  {
   "cell_type": "code",
   "execution_count": 18,
   "id": "9eefa2dd-bdb0-4d42-8e39-1e8a6e0b9bdd",
   "metadata": {},
   "outputs": [
    {
     "name": "stdout",
     "output_type": "stream",
     "text": [
      "value =  0\n",
      "value =  10\n"
     ]
    }
   ],
   "source": [
    "c1 = Counter(0)\n",
    "c2 = Counter(10)\n",
    "c1.PrintCurrentValue()\n",
    "c2.PrintCurrentValue()"
   ]
  },
  {
   "cell_type": "code",
   "execution_count": 21,
   "id": "17a62d88-bfaa-44de-8582-6ef9cb98a6de",
   "metadata": {},
   "outputs": [],
   "source": [
    "c1.Increment()      # 1 증가\n",
    "c2.Increment()"
   ]
  },
  {
   "cell_type": "code",
   "execution_count": 22,
   "id": "f89765e6-5d0f-424d-b0b3-d0aed2d988c8",
   "metadata": {},
   "outputs": [
    {
     "name": "stdout",
     "output_type": "stream",
     "text": [
      "value =  2\n",
      "value =  12\n"
     ]
    }
   ],
   "source": [
    "c1.PrintCurrentValue()\n",
    "c2.PrintCurrentValue()"
   ]
  },
  {
   "cell_type": "markdown",
   "id": "11de49b5-cc72-4bbc-babd-56b23df7370a",
   "metadata": {},
   "source": [
    "## static method"
   ]
  },
  {
   "cell_type": "code",
   "execution_count": 23,
   "id": "c0902e87-99d9-4a51-8561-ceaaec807bda",
   "metadata": {},
   "outputs": [],
   "source": [
    "class Computer:\n",
    "    @staticmethod    # class 이름으로 호출가능\n",
    "    def add(x, y):\n",
    "        return(x+y)\n",
    "    @staticmethod\n",
    "    def sub(x, y):\n",
    "        return(x-y)    "
   ]
  },
  {
   "cell_type": "code",
   "execution_count": 24,
   "id": "b9d0e444-61cc-4046-9977-82e1b4b930c6",
   "metadata": {},
   "outputs": [
    {
     "name": "stdout",
     "output_type": "stream",
     "text": [
      "30\n",
      "-10\n"
     ]
    }
   ],
   "source": [
    "print(Computer.add(10,20))\n",
    "print(Computer.sub(10,20))"
   ]
  },
  {
   "cell_type": "markdown",
   "id": "b5896673-1bdf-4ef6-90dc-a301d31a227a",
   "metadata": {},
   "source": [
    "## Class method : class variable(non-instance variable)"
   ]
  },
  {
   "cell_type": "code",
   "execution_count": 37,
   "id": "ef257226-1e15-418b-bc3f-6050dca57ef9",
   "metadata": {},
   "outputs": [],
   "source": [
    "class Car:\n",
    "    wheels = 4 # 클래스 변수 (비인스턴스 변수)\n",
    "\n",
    "    def __init__(self, make, model):\n",
    "        self.make = make # 인스턴스 변수\n",
    "        self.model = model # 인스턴스 변수\n",
    "\n",
    "    # 클래스 메서드 정의\n",
    "    @classmethod\n",
    "    def change_wheels(cls, new_wheel_count):\n",
    "        cls.wheels = new_wheel_count # 클래스 변수 수정\n",
    "\n",
    "    # 클래스 메서드로 클래스 변수 접근\n",
    "    @classmethod\n",
    "    def get_wheels(cls):\n",
    "        return cls.wheels # 클래스 변수 반환"
   ]
  },
  {
   "cell_type": "code",
   "execution_count": 38,
   "id": "2fa2a8b9-1c59-4af2-a7bd-b89356ebe1ed",
   "metadata": {},
   "outputs": [],
   "source": [
    "# 객체 생성\n",
    "car1 = Car(\"Hyundai\", \"Sonata\")\n",
    "car2 = Car(\"Tesla\", \"Model S\")"
   ]
  },
  {
   "cell_type": "code",
   "execution_count": 39,
   "id": "d88e07ae-794e-4d12-aa6c-a9f31ad184de",
   "metadata": {},
   "outputs": [
    {
     "name": "stdout",
     "output_type": "stream",
     "text": [
      "4 4\n"
     ]
    }
   ],
   "source": [
    "# 클래스 변수에 접근\n",
    "print(car1.get_wheels(), car2.get_wheels()) # 4 4"
   ]
  },
  {
   "cell_type": "code",
   "execution_count": 40,
   "id": "3f3509fb-d3d8-4753-918b-5644f34642bb",
   "metadata": {},
   "outputs": [],
   "source": [
    "# 클래스 메서드를 통해 클래스 변수 변경\n",
    "Car.change_wheels(6)"
   ]
  },
  {
   "cell_type": "code",
   "execution_count": 41,
   "id": "d66faac2-6bf2-42ee-8790-741553614730",
   "metadata": {},
   "outputs": [
    {
     "name": "stdout",
     "output_type": "stream",
     "text": [
      "6 6\n"
     ]
    }
   ],
   "source": [
    "# 클래스 변수에 접근\n",
    "print(car1.get_wheels(), car2.get_wheels()) # 6 6"
   ]
  },
  {
   "cell_type": "markdown",
   "id": "005ace99-7ad9-42d4-8dbf-3486a5b2b85c",
   "metadata": {},
   "source": [
    "## Nested class"
   ]
  },
  {
   "cell_type": "code",
   "execution_count": 78,
   "id": "d73a9672-d7e7-4084-93ee-c2987b6dd273",
   "metadata": {},
   "outputs": [],
   "source": [
    "class Prof:\n",
    "    def __init__(self, name):\n",
    "        self.name = name\n",
    "    def inner_disp(self, details):\n",
    "        print(details, self.name,  'From Inner Class')  \n",
    "\n",
    "class Dept:\n",
    "    def __init__(self, dname,pname):\n",
    "        self.dname = dname\n",
    "        self.prof = Prof(pname)  # self.Prof(pname) in case of inner class\n",
    "        \n",
    "    def outer_disp(self):\n",
    "        self.prof.inner_disp(self.dname)\n",
    "\n",
    "\n",
    "        \n",
    "# class Dept:\n",
    "#     def __init__(self, dname,pname):\n",
    "#         self.dname = dname\n",
    "#         self.prof = self.Prof(pname)  #self.Prof(pname) in case of inner class\n",
    "        \n",
    "#     def outer_disp(self):\n",
    "#         self.prof.inner_disp(self.dname)\n",
    "\n",
    "#     class Prof:\n",
    "#         def __init__(self, name):\n",
    "#             self.name = name\n",
    "#         def inner_disp(self, details):\n",
    "#             print(details, self.name,  'From Inner Class')    "
   ]
  },
  {
   "cell_type": "code",
   "execution_count": 79,
   "id": "bba17267-71be-41ec-b1a3-3f26bac39d51",
   "metadata": {},
   "outputs": [
    {
     "name": "stdout",
     "output_type": "stream",
     "text": [
      "Mathmatics Hong From Inner Class\n"
     ]
    }
   ],
   "source": [
    "math = Dept('Mathmatics','Hong')\n",
    "math.outer_disp()"
   ]
  },
  {
   "cell_type": "markdown",
   "id": "6fd1f989-6be8-480d-baae-0fcbbe6a6231",
   "metadata": {},
   "source": [
    "# Class inheritance"
   ]
  },
  {
   "cell_type": "markdown",
   "id": "9d542c56-3706-4a14-be4c-a2b1a7225b5c",
   "metadata": {},
   "source": [
    "## parent class"
   ]
  },
  {
   "cell_type": "code",
   "execution_count": 81,
   "id": "b5f6d7d0-8cd8-4798-97a7-959377831c53",
   "metadata": {},
   "outputs": [],
   "source": [
    "class Person3:\n",
    "    def __init__(self, name, age):\n",
    "        self.name = name\n",
    "        self.age = age\n",
    "        self.grade = None\n",
    "    def Eat(self, food):\n",
    "        print(f'{self.name}는 {food}를 먹는다')\n",
    "    def Sleep(self, hour):\n",
    "        print(f'{self.name}는 {hour}시간 동인 잔다.')  \n",
    "    def Work(self, hour):\n",
    "        print(f'{self.name}는 {hour}시간 동안 일한다.')  "
   ]
  },
  {
   "cell_type": "code",
   "execution_count": 82,
   "id": "ce8095a4-a749-49c2-8b9c-3958489222af",
   "metadata": {},
   "outputs": [],
   "source": [
    "bob = Person3('Bob',30)"
   ]
  },
  {
   "cell_type": "code",
   "execution_count": 83,
   "id": "f8d03cf2-3726-4943-b4b2-c45f46bc1c2d",
   "metadata": {},
   "outputs": [
    {
     "name": "stdout",
     "output_type": "stream",
     "text": [
      "Bob는 BBQ를 먹는다\n",
      "Bob는 8시간 동인 잔다.\n",
      "Bob는 10시간 동안 일한다.\n"
     ]
    }
   ],
   "source": [
    "bob.Eat('BBQ')\n",
    "bob.Sleep(8)\n",
    "bob.Work(10)"
   ]
  },
  {
   "cell_type": "code",
   "execution_count": 92,
   "id": "f56dd7b3-3e72-44fc-b0b5-0145edcde596",
   "metadata": {},
   "outputs": [],
   "source": [
    "class Student(Person3):\n",
    "    def __init__(self, name, age):\n",
    "        self.name = name\n",
    "        self.age = age\n",
    "    def Work(self, hour):   # overriding \n",
    "        super().Work(hour)  # call the method of Person3\n",
    "        print(f'{self.name}는 {hour}시간 동안 공부한다.')  \n",
    "\n",
    "class Employee(Person3):\n",
    "     def __init__(self, name, age):\n",
    "        self.name = name\n",
    "        self.age = age"
   ]
  },
  {
   "cell_type": "code",
   "execution_count": 93,
   "id": "d760ee66-eeb4-462a-9b6a-dcee9c630837",
   "metadata": {},
   "outputs": [
    {
     "name": "stdout",
     "output_type": "stream",
     "text": [
      "Bob는 BBQ를 먹는다\n",
      "Bob는 8시간 동인 잔다.\n",
      "Bob는 10시간 동안 일한다.\n",
      "Bob는 10시간 동안 공부한다.\n"
     ]
    }
   ],
   "source": [
    "bob = Student('Bob',30)  \n",
    "bob.Eat('BBQ')     # Person3(부모 클래스)의 메서드 사용 가능\n",
    "bob.Sleep(8)\n",
    "bob.Work(10)"
   ]
  },
  {
   "cell_type": "code",
   "execution_count": 94,
   "id": "cfbb7d74-fa07-4e52-86cd-3db165ce139c",
   "metadata": {},
   "outputs": [
    {
     "name": "stdout",
     "output_type": "stream",
     "text": [
      "Jain는 Pizza를 먹는다\n",
      "Jain는 8시간 동인 잔다.\n",
      "Jain는 10시간 동안 일한다.\n"
     ]
    }
   ],
   "source": [
    "bob = Employee('Jain',30)  \n",
    "bob.Eat('Pizza')     # Person3(부모 클래스)의 메서드 사용 가능\n",
    "bob.Sleep(8)\n",
    "bob.Work(10)"
   ]
  },
  {
   "cell_type": "code",
   "execution_count": null,
   "id": "d80bf164-0a9c-4aa0-a408-5d3fda60ae6e",
   "metadata": {},
   "outputs": [],
   "source": []
  }
 ],
 "metadata": {
  "kernelspec": {
   "display_name": "Python 3 (ipykernel)",
   "language": "python",
   "name": "python3"
  },
  "language_info": {
   "codemirror_mode": {
    "name": "ipython",
    "version": 3
   },
   "file_extension": ".py",
   "mimetype": "text/x-python",
   "name": "python",
   "nbconvert_exporter": "python",
   "pygments_lexer": "ipython3",
   "version": "3.12.7"
  }
 },
 "nbformat": 4,
 "nbformat_minor": 5
}
