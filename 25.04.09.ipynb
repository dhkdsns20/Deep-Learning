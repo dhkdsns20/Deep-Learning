{
 "cells": [
  {
   "cell_type": "markdown",
   "id": "b2a736a2-db4f-4e23-964a-ae7c5e06158b",
   "metadata": {},
   "source": [
    "### __Boolean indexing__"
   ]
  },
  {
   "cell_type": "code",
   "execution_count": 2,
   "id": "1a34815f-3cab-4d7e-9d9a-3257d35981c0",
   "metadata": {},
   "outputs": [],
   "source": [
    "import numpy as np"
   ]
  },
  {
   "cell_type": "code",
   "execution_count": 3,
   "id": "3ba91ddf-c6a5-42e4-84a1-4be840c1af29",
   "metadata": {},
   "outputs": [
    {
     "data": {
      "text/plain": [
       "array([[-2.17743668,  0.66768343,  0.41603609,  0.23680274],\n",
       "       [ 0.25009877, -1.94432023,  0.2280319 , -0.06361971],\n",
       "       [-1.64279424, -1.80258764,  1.45205924,  0.5355829 ]])"
      ]
     },
     "execution_count": 3,
     "metadata": {},
     "output_type": "execute_result"
    }
   ],
   "source": [
    "data = np.random.randn(3,4)\n",
    "data"
   ]
  },
  {
   "cell_type": "code",
   "execution_count": 4,
   "id": "3954d358-ac80-4818-8a1b-bbf924215802",
   "metadata": {},
   "outputs": [
    {
     "data": {
      "text/plain": [
       "array([[ True,  True,  True,  True],\n",
       "       [ True,  True,  True,  True],\n",
       "       [ True,  True, False,  True]])"
      ]
     },
     "execution_count": 4,
     "metadata": {},
     "output_type": "execute_result"
    }
   ],
   "source": [
    "data <= 1.0"
   ]
  },
  {
   "cell_type": "code",
   "execution_count": 7,
   "id": "f006b5b7-fc27-4a77-8b85-795dc405c204",
   "metadata": {},
   "outputs": [
    {
     "data": {
      "text/plain": [
       "array([[0.        , 0.        , 0.        , 0.        ],\n",
       "       [0.        , 0.        , 0.        , 0.        ],\n",
       "       [0.        , 0.        , 1.45205924, 0.        ]])"
      ]
     },
     "execution_count": 7,
     "metadata": {},
     "output_type": "execute_result"
    }
   ],
   "source": [
    "data[data <= 1.0] = 0.0\n",
    "data"
   ]
  },
  {
   "cell_type": "markdown",
   "id": "c2b199a0-3476-4e1d-875d-654dffd50284",
   "metadata": {},
   "source": [
    "---"
   ]
  },
  {
   "cell_type": "markdown",
   "id": "e1139254-801d-409c-80fa-d44b937cee1f",
   "metadata": {},
   "source": [
    "### __broadcast__"
   ]
  },
  {
   "cell_type": "code",
   "execution_count": 8,
   "id": "fd82e5d4-ff12-4a99-9053-5f93e36e974f",
   "metadata": {},
   "outputs": [
    {
     "name": "stdout",
     "output_type": "stream",
     "text": [
      "<class 'numpy.ndarray'>\n"
     ]
    }
   ],
   "source": [
    "print(type(data))"
   ]
  },
  {
   "cell_type": "code",
   "execution_count": 9,
   "id": "1460b16e-eb8b-48b5-b814-ffcc360dbde2",
   "metadata": {},
   "outputs": [
    {
     "data": {
      "text/plain": [
       "array([[3.        , 3.        , 3.        , 3.        ],\n",
       "       [3.        , 3.        , 3.        , 3.        ],\n",
       "       [3.        , 3.        , 4.45205924, 3.        ]])"
      ]
     },
     "execution_count": 9,
     "metadata": {},
     "output_type": "execute_result"
    }
   ],
   "source": [
    "data + 3  "
   ]
  },
  {
   "cell_type": "code",
   "execution_count": 11,
   "id": "02755e62-cda0-4250-8713-edf2f7a5929d",
   "metadata": {},
   "outputs": [
    {
     "data": {
      "text/plain": [
       "array([[0.        , 0.        , 0.        , 0.        ],\n",
       "       [0.        , 0.        , 0.        , 0.        ],\n",
       "       [0.        , 0.        , 4.35617771, 0.        ]])"
      ]
     },
     "execution_count": 11,
     "metadata": {},
     "output_type": "execute_result"
    }
   ],
   "source": [
    "data * 3 # data 자체가 바뀌지는 않는다."
   ]
  },
  {
   "cell_type": "code",
   "execution_count": 14,
   "id": "4616ceeb-6b97-4dcc-85df-42dfc5ae7bf8",
   "metadata": {},
   "outputs": [
    {
     "data": {
      "text/plain": [
       "array([[1.        , 1.        , 1.        , 1.        ],\n",
       "       [1.        , 1.        , 1.        , 1.        ],\n",
       "       [1.        , 1.        , 2.45205924, 1.        ]])"
      ]
     },
     "execution_count": 14,
     "metadata": {},
     "output_type": "execute_result"
    }
   ],
   "source": [
    "data + np.array([1, 1, 1, 1])  # 각 행에 대한 덧셈을 진행 + [1, 1, 1]의 경우 Error가 발생한다."
   ]
  },
  {
   "cell_type": "code",
   "execution_count": 17,
   "id": "4d55c1b1-50e4-49f0-a6f4-21dd11fcbc88",
   "metadata": {},
   "outputs": [
    {
     "data": {
      "text/plain": [
       "array([[1.        , 1.        , 1.        , 1.        ],\n",
       "       [1.        , 1.        , 1.        , 1.        ],\n",
       "       [1.        , 1.        , 2.45205924, 1.        ]])"
      ]
     },
     "execution_count": 17,
     "metadata": {},
     "output_type": "execute_result"
    }
   ],
   "source": [
    "data + np.array([1])  # np.array([1])"
   ]
  },
  {
   "cell_type": "code",
   "execution_count": 47,
   "id": "8ac6c92e-5d6d-4557-90ad-97b7bf4099aa",
   "metadata": {},
   "outputs": [
    {
     "data": {
      "text/plain": [
       "(array([[[0, 0, 1],\n",
       "         [0, 1, 1],\n",
       "         [0, 1, 0]],\n",
       " \n",
       "        [[0, 0, 1],\n",
       "         [0, 0, 1],\n",
       "         [0, 0, 0]],\n",
       " \n",
       "        [[1, 1, 0],\n",
       "         [0, 1, 0],\n",
       "         [1, 0, 1]]]),\n",
       " array([[0, 1, 0],\n",
       "        [1, 1, 0],\n",
       "        [0, 0, 0]]))"
      ]
     },
     "execution_count": 47,
     "metadata": {},
     "output_type": "execute_result"
    }
   ],
   "source": [
    "arr = np.random.randint(2, size=27).reshape(3,3,3)   # randn은 오류가 난다.\n",
    "arr2 = np.random.randint(2, size=9).reshape(3,3)\n",
    "arr, arr2"
   ]
  },
  {
   "cell_type": "code",
   "execution_count": 48,
   "id": "eb96d12f-d139-424f-8bf6-6fb9e6099029",
   "metadata": {},
   "outputs": [
    {
     "data": {
      "text/plain": [
       "array([[[0, 1, 1],\n",
       "        [1, 2, 1],\n",
       "        [0, 1, 0]],\n",
       "\n",
       "       [[0, 1, 1],\n",
       "        [1, 1, 1],\n",
       "        [0, 0, 0]],\n",
       "\n",
       "       [[1, 2, 0],\n",
       "        [1, 2, 0],\n",
       "        [1, 0, 1]]])"
      ]
     },
     "execution_count": 48,
     "metadata": {},
     "output_type": "execute_result"
    }
   ],
   "source": [
    "arr + arr2"
   ]
  },
  {
   "cell_type": "markdown",
   "id": "45082550-b45f-445c-922e-1ffbfb4fc36a",
   "metadata": {},
   "source": [
    "---"
   ]
  },
  {
   "cell_type": "markdown",
   "id": "d1bbb3a5-6def-47bd-995d-2db00c3619ab",
   "metadata": {},
   "source": [
    "### __Some arithmetic functions__"
   ]
  },
  {
   "cell_type": "code",
   "execution_count": 49,
   "id": "cfb9ad7d-7fe9-4963-8a0a-eecd5d46be31",
   "metadata": {},
   "outputs": [
    {
     "data": {
      "text/plain": [
       "array([[[0, 0, 1],\n",
       "        [0, 1, 1],\n",
       "        [0, 1, 0]],\n",
       "\n",
       "       [[0, 0, 1],\n",
       "        [0, 0, 1],\n",
       "        [0, 0, 0]],\n",
       "\n",
       "       [[1, 1, 0],\n",
       "        [0, 1, 0],\n",
       "        [1, 0, 1]]])"
      ]
     },
     "execution_count": 49,
     "metadata": {},
     "output_type": "execute_result"
    }
   ],
   "source": [
    "arr"
   ]
  },
  {
   "cell_type": "code",
   "execution_count": 50,
   "id": "9881f469-010f-40b0-9854-965996fb3a73",
   "metadata": {},
   "outputs": [
    {
     "data": {
      "text/plain": [
       "11"
      ]
     },
     "execution_count": 50,
     "metadata": {},
     "output_type": "execute_result"
    }
   ],
   "source": [
    "np.sum(arr)    # 합"
   ]
  },
  {
   "cell_type": "code",
   "execution_count": 55,
   "id": "53c60725-3981-409b-965b-662488afda9c",
   "metadata": {},
   "outputs": [
    {
     "data": {
      "text/plain": [
       "array([[1, 1, 1],\n",
       "       [0, 1, 1],\n",
       "       [1, 1, 1]])"
      ]
     },
     "execution_count": 55,
     "metadata": {},
     "output_type": "execute_result"
    }
   ],
   "source": [
    "np.max(arr)    # 최댓값\n",
    "np.max(arr,0)  # 0 ,1 ,2 이해 필요"
   ]
  },
  {
   "cell_type": "code",
   "execution_count": 46,
   "id": "09cf6b3c-0742-4f29-a288-903ec5117b1a",
   "metadata": {},
   "outputs": [
    {
     "data": {
      "text/plain": [
       "array([3, 4, 5])"
      ]
     },
     "execution_count": 46,
     "metadata": {},
     "output_type": "execute_result"
    }
   ],
   "source": [
    "# 축 연습\n",
    "test_arr = [[2,3,4],\n",
    "            [3,4,5]]\n",
    "np.max(test_arr,0)    # 열(아래로)"
   ]
  },
  {
   "cell_type": "code",
   "execution_count": 37,
   "id": "a67ade6b-199c-4d71-89a3-947094657ea4",
   "metadata": {},
   "outputs": [
    {
     "data": {
      "text/plain": [
       "array([4, 5])"
      ]
     },
     "execution_count": 37,
     "metadata": {},
     "output_type": "execute_result"
    }
   ],
   "source": [
    "np.max(test_arr,1)     # 행 "
   ]
  },
  {
   "cell_type": "code",
   "execution_count": 28,
   "id": "107930f6-f1f6-42d2-8b0b-d27adc1d595b",
   "metadata": {},
   "outputs": [
    {
     "data": {
      "text/plain": [
       "0"
      ]
     },
     "execution_count": 28,
     "metadata": {},
     "output_type": "execute_result"
    }
   ],
   "source": [
    "np.min(arr)    # 최솟값"
   ]
  },
  {
   "cell_type": "code",
   "execution_count": 29,
   "id": "277a4e7f-036b-4fd1-9a08-8c1e4f27f1ce",
   "metadata": {},
   "outputs": [
    {
     "data": {
      "text/plain": [
       "0.5185185185185185"
      ]
     },
     "execution_count": 29,
     "metadata": {},
     "output_type": "execute_result"
    }
   ],
   "source": [
    "np.mean(arr)   # 평균"
   ]
  },
  {
   "cell_type": "code",
   "execution_count": 35,
   "id": "ada52919-c52e-4e35-b437-1e60f6c04cd1",
   "metadata": {},
   "outputs": [
    {
     "data": {
      "text/plain": [
       "array([1, 6, 3, 7, 9, 0])"
      ]
     },
     "execution_count": 35,
     "metadata": {},
     "output_type": "execute_result"
    }
   ],
   "source": [
    "arr = np.array([1,6,3,7,9,0])\n",
    "arr"
   ]
  },
  {
   "cell_type": "code",
   "execution_count": 38,
   "id": "819656ab-6e45-4186-9786-a6e0347c6e99",
   "metadata": {},
   "outputs": [
    {
     "data": {
      "text/plain": [
       "4"
      ]
     },
     "execution_count": 38,
     "metadata": {},
     "output_type": "execute_result"
    }
   ],
   "source": [
    "np.argmax(arr)  # max의 indexx"
   ]
  },
  {
   "cell_type": "code",
   "execution_count": 39,
   "id": "6b88b79f-4920-4f78-aadf-b03208602833",
   "metadata": {},
   "outputs": [
    {
     "data": {
      "text/plain": [
       "5"
      ]
     },
     "execution_count": 39,
     "metadata": {},
     "output_type": "execute_result"
    }
   ],
   "source": [
    "np.argmin(arr)"
   ]
  },
  {
   "cell_type": "code",
   "execution_count": 40,
   "id": "ab95f086-2170-4891-af5c-c53ca1eae909",
   "metadata": {},
   "outputs": [],
   "source": [
    "arr = np.array([3,5,6,6,3,3,1])"
   ]
  },
  {
   "cell_type": "code",
   "execution_count": 41,
   "id": "8da81ce3-70a4-4090-9f8d-cc9b8ee92e8c",
   "metadata": {},
   "outputs": [
    {
     "data": {
      "text/plain": [
       "array([1, 3, 5, 6])"
      ]
     },
     "execution_count": 41,
     "metadata": {},
     "output_type": "execute_result"
    }
   ],
   "source": [
    "np.unique(arr)"
   ]
  },
  {
   "cell_type": "markdown",
   "id": "bfddfb88-4fd6-4dd6-9a02-aca414aae2b1",
   "metadata": {},
   "source": [
    "---"
   ]
  },
  {
   "cell_type": "markdown",
   "id": "0ef2dc40-84a7-4561-97a1-c488d525871a",
   "metadata": {},
   "source": [
    "### __dtype(data type), astype(data type conversion)__"
   ]
  },
  {
   "cell_type": "code",
   "execution_count": 58,
   "id": "60005441-6730-4127-8778-8cab461f38b8",
   "metadata": {},
   "outputs": [],
   "source": [
    "arr = np.array([[1.,2,3], [1,2,3]])"
   ]
  },
  {
   "cell_type": "code",
   "execution_count": 59,
   "id": "7128e712-551e-4552-af21-f967ea072d3c",
   "metadata": {},
   "outputs": [
    {
     "data": {
      "text/plain": [
       "dtype('float64')"
      ]
     },
     "execution_count": 59,
     "metadata": {},
     "output_type": "execute_result"
    }
   ],
   "source": [
    "arr.dtype"
   ]
  },
  {
   "cell_type": "code",
   "execution_count": 60,
   "id": "7526453f-cbfe-4a2f-842a-f9c8790885bb",
   "metadata": {},
   "outputs": [
    {
     "data": {
      "text/plain": [
       "array([[1, 2, 3],\n",
       "       [1, 2, 3]], dtype=int8)"
      ]
     },
     "execution_count": 60,
     "metadata": {},
     "output_type": "execute_result"
    }
   ],
   "source": [
    "arr.astype('int8')"
   ]
  },
  {
   "cell_type": "code",
   "execution_count": 62,
   "id": "801891ce-0f36-4fbd-931d-d447537b2b78",
   "metadata": {},
   "outputs": [
    {
     "data": {
      "text/plain": [
       "dtype('int32')"
      ]
     },
     "execution_count": 62,
     "metadata": {},
     "output_type": "execute_result"
    }
   ],
   "source": [
    "arr = np.array([[1.,2,3], [1,2,3]], dtype = np.int32)\n",
    "arr.dtype"
   ]
  },
  {
   "cell_type": "markdown",
   "id": "88aab1cd-f65a-4cae-a926-060ca6754737",
   "metadata": {},
   "source": [
    "---"
   ]
  },
  {
   "cell_type": "markdown",
   "id": "410026b9-8af8-4382-90f6-af1d00a3e321",
   "metadata": {},
   "source": [
    "### __reshape(changing dimension)__"
   ]
  },
  {
   "cell_type": "code",
   "execution_count": 63,
   "id": "ddf58e52-a04b-41df-aa53-27de10db829d",
   "metadata": {},
   "outputs": [
    {
     "data": {
      "text/plain": [
       "(2, 3)"
      ]
     },
     "execution_count": 63,
     "metadata": {},
     "output_type": "execute_result"
    }
   ],
   "source": [
    "arr.shape"
   ]
  },
  {
   "cell_type": "code",
   "execution_count": 65,
   "id": "e3a30f58-2007-430f-a93e-842bff6e6b5f",
   "metadata": {},
   "outputs": [
    {
     "name": "stdout",
     "output_type": "stream",
     "text": [
      "[[1 2 3 1 2 3]] (1, 6)\n"
     ]
    }
   ],
   "source": [
    "arr = arr.reshape([1,6])\n",
    "print(arr , arr.shape)"
   ]
  },
  {
   "cell_type": "code",
   "execution_count": 66,
   "id": "661d8d16-8d4c-441d-acdd-314ace828533",
   "metadata": {},
   "outputs": [
    {
     "name": "stdout",
     "output_type": "stream",
     "text": [
      "[1 2 3 1 2 3] (6,)\n"
     ]
    }
   ],
   "source": [
    "arr = arr.reshape([6])\n",
    "print(arr , arr.shape)"
   ]
  },
  {
   "cell_type": "code",
   "execution_count": 67,
   "id": "7b4b42d1-4409-4308-8c60-694ac04725bb",
   "metadata": {},
   "outputs": [
    {
     "name": "stdout",
     "output_type": "stream",
     "text": [
      "[1 2 3 1 2 3] (6,)\n"
     ]
    }
   ],
   "source": [
    "arr = arr.reshape([-1])  # -1은 알아서 정해라\n",
    "print(arr , arr.shape)"
   ]
  },
  {
   "cell_type": "code",
   "execution_count": 69,
   "id": "0ea86727-4af3-493d-af7b-95193d03e2be",
   "metadata": {},
   "outputs": [
    {
     "name": "stdout",
     "output_type": "stream",
     "text": [
      "[[1 2 3 1 2 3]] (1, 6)\n"
     ]
    }
   ],
   "source": [
    "arr = arr.reshape([1,-1])\n",
    "print(arr , arr.shape)"
   ]
  },
  {
   "cell_type": "code",
   "execution_count": 71,
   "id": "95fd1ab9-e4cf-41e1-a8e9-199673cbd50f",
   "metadata": {},
   "outputs": [
    {
     "name": "stdout",
     "output_type": "stream",
     "text": [
      "[[1 2]\n",
      " [3 1]\n",
      " [2 3]] (3, 2)\n"
     ]
    }
   ],
   "source": [
    "arr = arr.reshape([3,2])\n",
    "print(arr , arr.shape)"
   ]
  },
  {
   "cell_type": "code",
   "execution_count": 72,
   "id": "8259a9af-763f-4b1a-b4f2-9be4e75ab193",
   "metadata": {},
   "outputs": [
    {
     "name": "stdout",
     "output_type": "stream",
     "text": [
      "[[1]\n",
      " [2]\n",
      " [3]\n",
      " [1]\n",
      " [2]\n",
      " [3]] (6, 1)\n"
     ]
    }
   ],
   "source": [
    "arr = arr.reshape([-1,1])\n",
    "print(arr , arr.shape)"
   ]
  },
  {
   "cell_type": "code",
   "execution_count": 73,
   "id": "9c3314a8-33a3-41b9-8416-8e143e48c3d5",
   "metadata": {},
   "outputs": [
    {
     "name": "stdout",
     "output_type": "stream",
     "text": [
      "[[ 1.30819206 -0.66376021 -0.32754898 -0.33714037]\n",
      " [-1.66773595  0.97080169  0.33994015 -1.45347058]\n",
      " [-1.36083996  0.57548562  0.36790512 -1.2866669 ]] (3, 4)\n"
     ]
    }
   ],
   "source": [
    "arr = np.random.randn(3,4)\n",
    "print(arr , arr.shape)"
   ]
  },
  {
   "cell_type": "code",
   "execution_count": 74,
   "id": "a8e42352-dbb5-4a5e-99dc-b6c468fc1a93",
   "metadata": {},
   "outputs": [
    {
     "data": {
      "text/plain": [
       "0.9708016912688744"
      ]
     },
     "execution_count": 74,
     "metadata": {},
     "output_type": "execute_result"
    }
   ],
   "source": [
    "arr[1,1]"
   ]
  },
  {
   "cell_type": "code",
   "execution_count": 75,
   "id": "85dc599c-72fb-46b2-8bcc-ace0506cd2dc",
   "metadata": {},
   "outputs": [
    {
     "name": "stdout",
     "output_type": "stream",
     "text": [
      "[[ 1.30819206 -0.66376021 -0.32754898]\n",
      " [-0.33714037 -1.66773595  0.97080169]\n",
      " [ 0.33994015 -1.45347058 -1.36083996]\n",
      " [ 0.57548562  0.36790512 -1.2866669 ]] (4, 3)\n"
     ]
    }
   ],
   "source": [
    "arr = arr.reshape([4,3])\n",
    "print(arr , arr.shape)"
   ]
  },
  {
   "cell_type": "code",
   "execution_count": 76,
   "id": "fe624313-480b-4c75-bfde-c5396fba52d2",
   "metadata": {},
   "outputs": [
    {
     "data": {
      "text/plain": [
       "-1.667735951810545"
      ]
     },
     "execution_count": 76,
     "metadata": {},
     "output_type": "execute_result"
    }
   ],
   "source": [
    "arr[1,1]"
   ]
  },
  {
   "cell_type": "code",
   "execution_count": 77,
   "id": "a500d763-2dd6-4405-b311-e4ffb75888d7",
   "metadata": {},
   "outputs": [
    {
     "name": "stdout",
     "output_type": "stream",
     "text": [
      "[[[ 1.30819206]\n",
      "  [-0.66376021]]\n",
      "\n",
      " [[-0.32754898]\n",
      "  [-0.33714037]]\n",
      "\n",
      " [[-1.66773595]\n",
      "  [ 0.97080169]]\n",
      "\n",
      " [[ 0.33994015]\n",
      "  [-1.45347058]]\n",
      "\n",
      " [[-1.36083996]\n",
      "  [ 0.57548562]]\n",
      "\n",
      " [[ 0.36790512]\n",
      "  [-1.2866669 ]]] (6, 2, 1)\n"
     ]
    }
   ],
   "source": [
    "arr = arr.reshape(-1,2,1)\n",
    "print(arr , arr.shape)"
   ]
  },
  {
   "cell_type": "code",
   "execution_count": 78,
   "id": "1e4cbdbd-3add-45da-92ba-c07ab7843686",
   "metadata": {},
   "outputs": [
    {
     "data": {
      "text/plain": [
       "(12,)"
      ]
     },
     "execution_count": 78,
     "metadata": {},
     "output_type": "execute_result"
    }
   ],
   "source": [
    "arr = arr.reshape(-1)\n",
    "arr.shape"
   ]
  },
  {
   "cell_type": "markdown",
   "id": "e33cc1b9-12f4-4c39-b4e5-254a85102a34",
   "metadata": {},
   "source": [
    "---"
   ]
  },
  {
   "cell_type": "markdown",
   "id": "42b6084f-427f-4335-a3db-2c8f950a8d3d",
   "metadata": {},
   "source": [
    "### __expand_dims__"
   ]
  },
  {
   "cell_type": "code",
   "execution_count": 79,
   "id": "e02d10b4-2824-429d-9533-a7d6e9ca7112",
   "metadata": {},
   "outputs": [
    {
     "data": {
      "text/plain": [
       "(1, 12)"
      ]
     },
     "execution_count": 79,
     "metadata": {},
     "output_type": "execute_result"
    }
   ],
   "source": [
    "arr = np.expand_dims(arr,0)\n",
    "arr.shape"
   ]
  },
  {
   "cell_type": "code",
   "execution_count": 80,
   "id": "19f1ba3a-f83e-4d7a-9cfd-0e92393993e2",
   "metadata": {},
   "outputs": [
    {
     "data": {
      "text/plain": [
       "(12,)"
      ]
     },
     "execution_count": 80,
     "metadata": {},
     "output_type": "execute_result"
    }
   ],
   "source": [
    "arr = arr.reshape(-1)\n",
    "arr.shape"
   ]
  },
  {
   "cell_type": "code",
   "execution_count": 81,
   "id": "2eaeb7b2-0454-46ae-a8a0-eb2a0180a076",
   "metadata": {},
   "outputs": [
    {
     "data": {
      "text/plain": [
       "(12, 1)"
      ]
     },
     "execution_count": 81,
     "metadata": {},
     "output_type": "execute_result"
    }
   ],
   "source": [
    "arr = np.expand_dims(arr,-1)\n",
    "arr.shape"
   ]
  },
  {
   "cell_type": "code",
   "execution_count": 82,
   "id": "98a3dad8-184c-4d64-b805-72570ca343e4",
   "metadata": {},
   "outputs": [
    {
     "data": {
      "text/plain": [
       "(1, 12, 1, 1)"
      ]
     },
     "execution_count": 82,
     "metadata": {},
     "output_type": "execute_result"
    }
   ],
   "source": [
    "arr = np.expand_dims(np.expand_dims(arr,-1),0)\n",
    "arr.shape"
   ]
  },
  {
   "cell_type": "markdown",
   "id": "1485e689-d4de-4c8b-bbc8-ad56073a7b96",
   "metadata": {},
   "source": [
    "---"
   ]
  },
  {
   "cell_type": "markdown",
   "id": "30a39675-4a73-470c-bfa0-43389cba08d5",
   "metadata": {},
   "source": [
    "### __matplotlib 시험에는 X__"
   ]
  },
  {
   "cell_type": "code",
   "execution_count": 84,
   "id": "c9e3871a-2bef-4665-b48a-45d40387d389",
   "metadata": {},
   "outputs": [],
   "source": [
    "import matplotlib.pyplot as plt"
   ]
  },
  {
   "cell_type": "code",
   "execution_count": 85,
   "id": "41fbb0fc-9618-4d34-b50d-e8cbefd0675d",
   "metadata": {},
   "outputs": [
    {
     "data": {
      "text/plain": [
       "array([-1.1974537 , -0.64774948,  0.12269772, -1.86362845,  0.1715759 ,\n",
       "        0.46870916, -1.12827765, -0.91583214,  0.98174875,  0.22632827,\n",
       "       -0.22682941, -1.06557391, -0.56710548, -0.25509969, -0.24680691,\n",
       "       -0.14682153, -0.25334663, -2.10589386, -0.55109662,  0.78570288,\n",
       "        0.02768768, -0.07420147,  0.66901597, -0.62377324,  0.75741675,\n",
       "       -0.56793339, -0.48013433, -2.73116564,  0.91880073, -1.13963651,\n",
       "       -1.22993602,  0.49445889, -1.14560726, -1.18598663,  0.89726527,\n",
       "       -0.18738296,  1.40501896, -0.57966006,  0.34904828, -0.27802133,\n",
       "       -0.44189687, -1.03462264, -0.88549967,  0.48068809, -0.38047191,\n",
       "       -0.51157819,  0.38779957,  0.18040353, -0.72119491, -1.60696258])"
      ]
     },
     "execution_count": 85,
     "metadata": {},
     "output_type": "execute_result"
    }
   ],
   "source": [
    "data = np.random.randn(50)\n",
    "data"
   ]
  },
  {
   "cell_type": "code",
   "execution_count": 87,
   "id": "7ca3b48e-0106-4d82-98b5-8830661241a9",
   "metadata": {},
   "outputs": [
    {
     "data": {
      "image/png": "[encoded data removed]",
      "text/plain": [
       "<Figure size 640x480 with 1 Axes>"
      ]
     },
     "metadata": {},
     "output_type": "display_data"
    }
   ],
   "source": [
    "plt.plot(data)\n",
    "plt.show()"
   ]
  },
  {
   "cell_type": "code",
   "execution_count": 88,
   "id": "9a0a7087-2972-4c2e-846e-6806b0b37e7c",
   "metadata": {},
   "outputs": [],
   "source": [
    "hist_data = np.random.randn(100)\n",
    "scat_data = np.arange(100)"
   ]
  },
  {
   "cell_type": "code",
   "execution_count": 97,
   "id": "ea8c7dc8-62b4-46b6-87d2-0e2c1906601e",
   "metadata": {},
   "outputs": [
    {
     "data": {
      "image/png": "[encoded data removed]",
      "text/plain": [
       "<Figure size 1000x1000 with 3 Axes>"
      ]
     },
     "metadata": {},
     "output_type": "display_data"
    }
   ],
   "source": [
    "plt.figure(figsize = (10,10))  # fig의 크기 변경\n",
    "plt.subplot(2,2,1)\n",
    "plt.plot(data)\n",
    "plt.subplot(2,2,2)\n",
    "plt.hist(hist_data, bins=20)\n",
    "plt.subplot(2,2,3)\n",
    "plt.scatter(scat_data, hist_data)\n",
    "plt.show()"
   ]
  },
  {
   "cell_type": "code",
   "execution_count": 109,
   "id": "238c1a6b-e430-4b19-a1d4-ea69e4a74199",
   "metadata": {},
   "outputs": [
    {
     "data": {
      "image/png": "[encoded data removed]",
      "text/plain": [
       "<Figure size 640x480 with 1 Axes>"
      ]
     },
     "metadata": {},
     "output_type": "display_data"
    }
   ],
   "source": [
    "plt.title('random')\n",
    "plt.xlabel('index')\n",
    "plt.ylabel('height')\n",
    "plt.plot(np.random.randn(100).cumsum(), 'r^', label = 'one')\n",
    "plt.plot(np.random.randn(100).cumsum(), 'g.', label = 'two')\n",
    "plt.plot(np.random.randn(100).cumsum(), 'b', label = 'three')\n",
    "plt.legend()\n",
    "plt.savefig('graph.png')\n",
    "plt.show()"
   ]
  },
  {
   "cell_type": "code",
   "execution_count": 107,
   "id": "5de89098-cffc-4e96-884b-7649af6e47fb",
   "metadata": {},
   "outputs": [
    {
     "data": {
      "text/plain": [
       "<Figure size 640x480 with 0 Axes>"
      ]
     },
     "metadata": {},
     "output_type": "display_data"
    }
   ],
   "source": [
    "plt.savefig('graph.png') # show() 끝나기전에 해야함"
   ]
  },
  {
   "cell_type": "code",
   "execution_count": 108,
   "id": "c82c25de-a9e0-4ebd-bd29-683df994d81a",
   "metadata": {},
   "outputs": [],
   "source": [
    "plt.show()"
   ]
  },
  {
   "cell_type": "code",
   "execution_count": null,
   "id": "3c8fd4ce-b8a8-4a22-8b7b-e6eb30003e55",
   "metadata": {},
   "outputs": [],
   "source": []
  }
 ],
 "metadata": {
  "kernelspec": {
   "display_name": "Python 3 (ipykernel)",
   "language": "python",
   "name": "python3"
  },
  "language_info": {
   "codemirror_mode": {
    "name": "ipython",
    "version": 3
   },
   "file_extension": ".py",
   "mimetype": "text/x-python",
   "name": "python",
   "nbconvert_exporter": "python",
   "pygments_lexer": "ipython3",
   "version": "3.12.7"
  }
 },
 "nbformat": 4,
 "nbformat_minor": 5
}
