{
 "cells": [
  {
   "cell_type": "markdown",
   "id": "c837db21-9836-40fa-b833-59efd4803f94",
   "metadata": {},
   "source": [
    "## __Redefinition in class__"
   ]
  },
  {
   "cell_type": "markdown",
   "id": "9c82dd13-a858-400a-90bb-ef39e074306e",
   "metadata": {},
   "source": [
    "### str()"
   ]
  },
  {
   "cell_type": "code",
   "execution_count": 4,
   "id": "0b73bee6-4a0c-4bd2-b40d-c4b11f6e3434",
   "metadata": {},
   "outputs": [],
   "source": [
    "class Point2D:\n",
    "    def __init__(self,x,y):\n",
    "        self.x = x\n",
    "        self.y = y\n",
    "    def PrintPt(self):\n",
    "        print(f'({self.x}, {self.y})') "
   ]
  },
  {
   "cell_type": "code",
   "execution_count": 7,
   "id": "75a31ab3-ce25-4a1e-a1ef-5f1f00ffd30f",
   "metadata": {},
   "outputs": [],
   "source": [
    "p1 = Point2D(3,5)\n",
    "p2 = Point2D(-1,-2)"
   ]
  },
  {
   "cell_type": "code",
   "execution_count": 8,
   "id": "58329687-fcc8-47dc-a86d-11447d2f8980",
   "metadata": {},
   "outputs": [
    {
     "name": "stdout",
     "output_type": "stream",
     "text": [
      "<__main__.Point2D object at 0x000002B46B59FAD0>\n",
      "3 5\n",
      "(3, 5)\n"
     ]
    }
   ],
   "source": [
    "print(p1)\n",
    "print(p1.x, p1.y)\n",
    "p1.PrintPt()"
   ]
  },
  {
   "cell_type": "code",
   "execution_count": 18,
   "id": "7853b46d-b4dc-4766-abad-86a8a9bf5afb",
   "metadata": {},
   "outputs": [],
   "source": [
    "class Point2D:\n",
    "    def __init__(self,x,y):\n",
    "        self.x = x\n",
    "        self.y = y\n",
    "    def __str__(self):\n",
    "        return f'({self.x}, {self.y})' "
   ]
  },
  {
   "cell_type": "code",
   "execution_count": 19,
   "id": "d3581e6b-9ac9-41a4-9688-810db773f89f",
   "metadata": {},
   "outputs": [],
   "source": [
    "p3 = Point2D(3,5)\n",
    "p4 = Point2D(-1,-2)"
   ]
  },
  {
   "cell_type": "code",
   "execution_count": 20,
   "id": "17e73e89-e07a-448a-a92f-84cc7de257d7",
   "metadata": {},
   "outputs": [
    {
     "name": "stdout",
     "output_type": "stream",
     "text": [
      "(3, 5)\n"
     ]
    }
   ],
   "source": [
    "print(p3)"
   ]
  },
  {
   "cell_type": "markdown",
   "id": "6aabc9cb-16a0-47f0-b88c-2bf05053b3b3",
   "metadata": {},
   "source": [
    "### add()"
   ]
  },
  {
   "cell_type": "code",
   "execution_count": 26,
   "id": "303006a2-eb40-46d5-88d3-72319ad6117b",
   "metadata": {},
   "outputs": [],
   "source": [
    "class Point2D:\n",
    "    def __init__(self,x,y):\n",
    "        self.x = x\n",
    "        self.y = y\n",
    "    def __str__(self):\n",
    "        return f'({self.x}, {self.y})' \n",
    "    def Add(self,pt):\n",
    "        return Point2D(self.x + pt.x, self.y + pt.y)"
   ]
  },
  {
   "cell_type": "code",
   "execution_count": 27,
   "id": "c3d8d16c-161d-4cea-8552-1875364e4626",
   "metadata": {},
   "outputs": [],
   "source": [
    "p3 = Point2D(3,5)\n",
    "p4 = Point2D(-1,-2)"
   ]
  },
  {
   "cell_type": "code",
   "execution_count": 29,
   "id": "1f22aaf7-bded-459f-a973-4c7db26cad73",
   "metadata": {},
   "outputs": [
    {
     "name": "stdout",
     "output_type": "stream",
     "text": [
      "(2, 3)\n"
     ]
    }
   ],
   "source": [
    "p5 = p3.Add(p4)\n",
    "print(p5)"
   ]
  },
  {
   "cell_type": "code",
   "execution_count": 34,
   "id": "4dbe8e87-f883-4715-bedc-6c4298872268",
   "metadata": {},
   "outputs": [],
   "source": [
    "class Point2D:\n",
    "    def __init__(self,x,y):\n",
    "        self.x = x\n",
    "        self.y = y\n",
    "    def __str__(self):\n",
    "        return f'({self.x}, {self.y})' \n",
    "    def __add__(self,pt):\n",
    "        new_x = self.x + pt.x\n",
    "        new_y = self.y + pt.y\n",
    "        return Point2D(new_x, new_y)"
   ]
  },
  {
   "cell_type": "code",
   "execution_count": 35,
   "id": "d94569eb-13f8-43a5-9bc8-d493c5b3b739",
   "metadata": {},
   "outputs": [],
   "source": [
    "p3 = Point2D(3,5)\n",
    "p4 = Point2D(-1,-2)"
   ]
  },
  {
   "cell_type": "code",
   "execution_count": 38,
   "id": "6e2558f6-97e6-4a71-bd08-9dee94ac9b07",
   "metadata": {},
   "outputs": [
    {
     "name": "stdout",
     "output_type": "stream",
     "text": [
      "(2, 3)\n"
     ]
    }
   ],
   "source": [
    "p6 = p3 + p4  # p3.__add(p4)__\n",
    "print(p6)"
   ]
  },
  {
   "cell_type": "markdown",
   "id": "8abcb456-4f0f-4e6f-a703-18ede328d4f7",
   "metadata": {},
   "source": [
    "### sub()"
   ]
  },
  {
   "cell_type": "code",
   "execution_count": 39,
   "id": "18591e65-2fe5-457e-a936-0bb79b01f435",
   "metadata": {},
   "outputs": [],
   "source": [
    "class Point2D:\n",
    "    def __init__(self,x,y):\n",
    "        self.x = x\n",
    "        self.y = y\n",
    "    def __str__(self):\n",
    "        return f'({self.x}, {self.y})' \n",
    "    def __add__(self,pt):\n",
    "        new_x = self.x + pt.x\n",
    "        new_y = self.y + pt.y\n",
    "        return Point2D(new_x, new_y)\n",
    "    def __sub__(self,pt):\n",
    "        new_x = self.x - pt.x\n",
    "        new_y = self.y - pt.y\n",
    "        return Point2D(new_x, new_y)"
   ]
  },
  {
   "cell_type": "code",
   "execution_count": 40,
   "id": "3f47bf52-fef9-4c21-b900-8df6ecf751ec",
   "metadata": {},
   "outputs": [],
   "source": [
    "p3 = Point2D(3,5)\n",
    "p4 = Point2D(-1,-2)"
   ]
  },
  {
   "cell_type": "code",
   "execution_count": 41,
   "id": "8a7d0e49-2676-43cb-84f0-02a79e790b8d",
   "metadata": {},
   "outputs": [
    {
     "name": "stdout",
     "output_type": "stream",
     "text": [
      "(4, 7)\n"
     ]
    }
   ],
   "source": [
    "p7 = p3 - p4\n",
    "print(p7)"
   ]
  },
  {
   "cell_type": "markdown",
   "id": "17158697-97d5-4e2a-adb3-4d0bd3f6ce3b",
   "metadata": {},
   "source": [
    "## __Practice__"
   ]
  },
  {
   "cell_type": "markdown",
   "id": "9b96553d-554e-4621-be89-21b51431f757",
   "metadata": {},
   "source": [
    "### ComplexNumber"
   ]
  },
  {
   "cell_type": "code",
   "execution_count": 64,
   "id": "4e346652-b819-4c69-8a68-46f5a6bf72b8",
   "metadata": {},
   "outputs": [],
   "source": [
    "class ComplexNumber:\n",
    "    def __init__(self, real, img):\n",
    "        self.real = real\n",
    "        self.img = img\n",
    "        \n",
    "    def __str__(self):\n",
    "        if self.img>=0:\n",
    "            return f'{self.real}+j{self.img}'\n",
    "        else:\n",
    "            return f'{self.real}-j{-self.img}'\n",
    "        \n",
    "    def __add__(self,pt):\n",
    "        return ComplexNumber(self.real + pt.real, self.img + pt.img)\n",
    "        \n",
    "    def __sub__(self,pt):\n",
    "        return ComplexNumber(self.real - pt.real, self.img - pt.img)\n",
    "        \n",
    "    def __mul__(self,pt):\n",
    "        new_real = self.real * pt.real - self.img * pt.img\n",
    "        new_img = self.real * pt.img + self.img * pt.real\n",
    "        return ComplexNumber(new_real, new_img)"
   ]
  },
  {
   "cell_type": "code",
   "execution_count": 65,
   "id": "71da9f50-94ab-4793-af93-62be5c557e3c",
   "metadata": {},
   "outputs": [],
   "source": [
    "a = ComplexNumber(1,2)\n",
    "b = ComplexNumber(-3,3)"
   ]
  },
  {
   "cell_type": "code",
   "execution_count": 66,
   "id": "7931d7d0-e0cc-4cb7-a76d-195e6066160a",
   "metadata": {},
   "outputs": [],
   "source": [
    "c = a + b\n",
    "d = a - b\n",
    "e = a * b"
   ]
  },
  {
   "cell_type": "code",
   "execution_count": 67,
   "id": "cd8f4095-ab8e-4b7d-a725-75372e57b8b5",
   "metadata": {},
   "outputs": [
    {
     "name": "stdout",
     "output_type": "stream",
     "text": [
      "1+j2,   -3+j3\n",
      "-2+j5,   4-j1,   -9-j3\n"
     ]
    }
   ],
   "source": [
    "print(a, b, sep =',   ')\n",
    "print(c, d, e, sep =',   ')"
   ]
  },
  {
   "cell_type": "markdown",
   "id": "337ea059-a36c-401a-8963-a3ba283e3b1d",
   "metadata": {},
   "source": [
    "## __정규표현식__"
   ]
  },
  {
   "cell_type": "markdown",
   "id": "c14d1c39-29ad-4a43-b025-762cee68fd77",
   "metadata": {},
   "source": [
    "### __Numpy__"
   ]
  },
  {
   "cell_type": "markdown",
   "id": "d2507dfb-0111-4050-8e36-49bd446581da",
   "metadata": {},
   "source": [
    "### Tensor"
   ]
  },
  {
   "cell_type": "code",
   "execution_count": 68,
   "id": "0e9c3354-e2fe-4ddd-8ac3-f8cae4612367",
   "metadata": {},
   "outputs": [],
   "source": [
    "import numpy as np"
   ]
  },
  {
   "cell_type": "code",
   "execution_count": 70,
   "id": "9018b6a3-d6b6-4a06-9e40-cfbb036d6cb0",
   "metadata": {},
   "outputs": [],
   "source": [
    "arr = np.array(5) # numpy의 num은 숫자를 의미 -> np.array에는 숫자만 들어간다."
   ]
  },
  {
   "cell_type": "code",
   "execution_count": 71,
   "id": "28558150-de86-4a3c-aa50-c5ed5e26425b",
   "metadata": {},
   "outputs": [
    {
     "data": {
      "text/plain": [
       "()"
      ]
     },
     "execution_count": 71,
     "metadata": {},
     "output_type": "execute_result"
    }
   ],
   "source": [
    "arr.shape # 0 dimention, scalr 5"
   ]
  },
  {
   "cell_type": "code",
   "execution_count": 73,
   "id": "d8cac26a-ef41-4738-a5ae-87bc1b7dbfb2",
   "metadata": {},
   "outputs": [
    {
     "data": {
      "text/plain": [
       "array([1, 2, 3])"
      ]
     },
     "execution_count": 73,
     "metadata": {},
     "output_type": "execute_result"
    }
   ],
   "source": [
    "arr1 = np.array([1,2,3])\n",
    "arr1"
   ]
  },
  {
   "cell_type": "code",
   "execution_count": 74,
   "id": "5565b01b-338f-4533-9c71-a97c21734165",
   "metadata": {},
   "outputs": [
    {
     "data": {
      "text/plain": [
       "(3,)"
      ]
     },
     "execution_count": 74,
     "metadata": {},
     "output_type": "execute_result"
    }
   ],
   "source": [
    "arr1.shape # 1차원"
   ]
  },
  {
   "cell_type": "code",
   "execution_count": 76,
   "id": "6a751bd3-486d-49d5-ba40-ff12f5a443c5",
   "metadata": {},
   "outputs": [
    {
     "data": {
      "text/plain": [
       "array([[1, 2, 3],\n",
       "       [1, 2, 3],\n",
       "       [1, 2, 3],\n",
       "       [1, 2, 3]])"
      ]
     },
     "execution_count": 76,
     "metadata": {},
     "output_type": "execute_result"
    }
   ],
   "source": [
    "arr2 = np.array([arr1, arr1, arr1, arr1])\n",
    "arr2"
   ]
  },
  {
   "cell_type": "code",
   "execution_count": 77,
   "id": "4f2aa865-cf3d-427c-b326-2eaae9be5807",
   "metadata": {},
   "outputs": [
    {
     "data": {
      "text/plain": [
       "(4, 3)"
      ]
     },
     "execution_count": 77,
     "metadata": {},
     "output_type": "execute_result"
    }
   ],
   "source": [
    "arr2.shape # 2차원"
   ]
  },
  {
   "cell_type": "code",
   "execution_count": 79,
   "id": "1c409c55-fd63-40fb-8c65-f41ab3253d0b",
   "metadata": {},
   "outputs": [
    {
     "data": {
      "text/plain": [
       "array([[[1, 2, 3],\n",
       "        [1, 2, 3],\n",
       "        [1, 2, 3],\n",
       "        [1, 2, 3]],\n",
       "\n",
       "       [[1, 2, 3],\n",
       "        [1, 2, 3],\n",
       "        [1, 2, 3],\n",
       "        [1, 2, 3]]])"
      ]
     },
     "execution_count": 79,
     "metadata": {},
     "output_type": "execute_result"
    }
   ],
   "source": [
    "arr3 = np.array([arr2, arr2])\n",
    "arr3"
   ]
  },
  {
   "cell_type": "code",
   "execution_count": 80,
   "id": "448f9359-6eee-4d9f-be2a-6237ac3c47ec",
   "metadata": {},
   "outputs": [
    {
     "data": {
      "text/plain": [
       "(2, 4, 3)"
      ]
     },
     "execution_count": 80,
     "metadata": {},
     "output_type": "execute_result"
    }
   ],
   "source": [
    "arr3.shape # 3차원"
   ]
  },
  {
   "cell_type": "code",
   "execution_count": 81,
   "id": "04fb368e-3fb6-4f0c-819a-ca033c0a51a8",
   "metadata": {},
   "outputs": [
    {
     "data": {
      "text/plain": [
       "array([[[[1, 2, 3],\n",
       "         [1, 2, 3],\n",
       "         [1, 2, 3],\n",
       "         [1, 2, 3]],\n",
       "\n",
       "        [[1, 2, 3],\n",
       "         [1, 2, 3],\n",
       "         [1, 2, 3],\n",
       "         [1, 2, 3]]],\n",
       "\n",
       "\n",
       "       [[[1, 2, 3],\n",
       "         [1, 2, 3],\n",
       "         [1, 2, 3],\n",
       "         [1, 2, 3]],\n",
       "\n",
       "        [[1, 2, 3],\n",
       "         [1, 2, 3],\n",
       "         [1, 2, 3],\n",
       "         [1, 2, 3]]],\n",
       "\n",
       "\n",
       "       [[[1, 2, 3],\n",
       "         [1, 2, 3],\n",
       "         [1, 2, 3],\n",
       "         [1, 2, 3]],\n",
       "\n",
       "        [[1, 2, 3],\n",
       "         [1, 2, 3],\n",
       "         [1, 2, 3],\n",
       "         [1, 2, 3]]]])"
      ]
     },
     "execution_count": 81,
     "metadata": {},
     "output_type": "execute_result"
    }
   ],
   "source": [
    "arr4 = np.array([arr3, arr3, arr3])\n",
    "arr4"
   ]
  },
  {
   "cell_type": "code",
   "execution_count": 82,
   "id": "871b2217-5946-4e57-9bda-5807593ab2b3",
   "metadata": {},
   "outputs": [
    {
     "data": {
      "text/plain": [
       "(3, 2, 4, 3)"
      ]
     },
     "execution_count": 82,
     "metadata": {},
     "output_type": "execute_result"
    }
   ],
   "source": [
    "arr4.shape # 4차원"
   ]
  },
  {
   "cell_type": "code",
   "execution_count": 84,
   "id": "bf6ff059-131d-4d65-b42e-53e962cd3692",
   "metadata": {},
   "outputs": [
    {
     "name": "stdout",
     "output_type": "stream",
     "text": [
      "3 2 4 3\n"
     ]
    }
   ],
   "source": [
    "print(arr4.shape[0], arr4.shape[1], arr4.shape[2], arr4.shape[3])  # shape의 index"
   ]
  },
  {
   "cell_type": "markdown",
   "id": "93c5019e-2918-40e4-9e8e-53610f4ffd25",
   "metadata": {},
   "source": [
    "#### zeros(), ones()"
   ]
  },
  {
   "cell_type": "code",
   "execution_count": 92,
   "id": "31502641-693b-4226-8442-4dc87be844ab",
   "metadata": {},
   "outputs": [
    {
     "name": "stdout",
     "output_type": "stream",
     "text": [
      "[[0. 0. 0. 0.]\n",
      " [0. 0. 0. 0.]\n",
      " [0. 0. 0. 0.]]\n",
      "(3, 4)\n"
     ]
    }
   ],
   "source": [
    "zeros = np.zeros([3,4])\n",
    "print(zeros)\n",
    "print(zeros.shape)"
   ]
  },
  {
   "cell_type": "code",
   "execution_count": 93,
   "id": "17a772d8-8a43-4640-9b34-94f35f64195e",
   "metadata": {},
   "outputs": [
    {
     "name": "stdout",
     "output_type": "stream",
     "text": [
      "[[1. 1. 1. 1.]\n",
      " [1. 1. 1. 1.]\n",
      " [1. 1. 1. 1.]]\n",
      "(3, 4)\n"
     ]
    }
   ],
   "source": [
    "ones = np.ones([3,4])\n",
    "print(ones)\n",
    "print(ones.shape)"
   ]
  },
  {
   "cell_type": "code",
   "execution_count": 98,
   "id": "235a9651-0a8a-4675-abd6-b7977c5d7f99",
   "metadata": {},
   "outputs": [
    {
     "name": "stdout",
     "output_type": "stream",
     "text": [
      "[[1. 0. 0. 0. 0.]\n",
      " [0. 1. 0. 0. 0.]\n",
      " [0. 0. 1. 0. 0.]]\n",
      "(3, 5)\n"
     ]
    }
   ],
   "source": [
    "# 대각 행렬\n",
    "eye = np.eye(N = 3, M = 5)\n",
    "print(eye)\n",
    "print(eye.shape)"
   ]
  },
  {
   "cell_type": "markdown",
   "id": "09644886-018f-45be-ac44-c67a459d653c",
   "metadata": {},
   "source": [
    "### arange()"
   ]
  },
  {
   "cell_type": "code",
   "execution_count": 108,
   "id": "211a79a0-ea69-42bd-b417-b4274fe7e334",
   "metadata": {},
   "outputs": [
    {
     "name": "stdout",
     "output_type": "stream",
     "text": [
      "(5,)\n",
      "[0 2 4 6 8]\n"
     ]
    }
   ],
   "source": [
    "arr = np.arange(0,10,2)\n",
    "print(arr.shape)\n",
    "print(arr)"
   ]
  },
  {
   "cell_type": "code",
   "execution_count": 113,
   "id": "fffa1759-10e1-4999-9339-bc3b5020b608",
   "metadata": {},
   "outputs": [
    {
     "name": "stdout",
     "output_type": "stream",
     "text": [
      "(12,)\n",
      "[ 0  1  2  3  4  5  6  7  8  9 10 11]\n"
     ]
    }
   ],
   "source": [
    "arr1 = np.arange(12)\n",
    "print(arr1.shape)\n",
    "print(arr1)"
   ]
  },
  {
   "cell_type": "code",
   "execution_count": 114,
   "id": "623d49f7-8900-4777-bcde-6944c6e10dd6",
   "metadata": {},
   "outputs": [
    {
     "name": "stdout",
     "output_type": "stream",
     "text": [
      "(3, 4)\n",
      "[[ 0  1  2  3]\n",
      " [ 4  5  6  7]\n",
      " [ 8  9 10 11]]\n"
     ]
    }
   ],
   "source": [
    "arr2 = arr1.reshape(3,4)\n",
    "print(arr2.shape)\n",
    "print(arr2)"
   ]
  },
  {
   "cell_type": "markdown",
   "id": "81d6c119-80b5-49cc-b649-7526efbc1fbb",
   "metadata": {},
   "source": [
    "### indexing, slicing"
   ]
  },
  {
   "cell_type": "code",
   "execution_count": 112,
   "id": "f549a15b-2cbd-4dfa-9eed-6a6c57e03aa4",
   "metadata": {},
   "outputs": [
    {
     "data": {
      "text/plain": [
       "6"
      ]
     },
     "execution_count": 112,
     "metadata": {},
     "output_type": "execute_result"
    }
   ],
   "source": [
    "arr2[1][2]    # 방법 1"
   ]
  },
  {
   "cell_type": "code",
   "execution_count": 115,
   "id": "a3bb9a39-2f49-4562-b264-0f2a90e51736",
   "metadata": {},
   "outputs": [
    {
     "data": {
      "text/plain": [
       "6"
      ]
     },
     "execution_count": 115,
     "metadata": {},
     "output_type": "execute_result"
    }
   ],
   "source": [
    "arr2[1,2]     # 방법 2 : 더 많이 씀"
   ]
  },
  {
   "cell_type": "code",
   "execution_count": 116,
   "id": "24541dea-a6a4-4850-9626-19781b6c43bf",
   "metadata": {},
   "outputs": [
    {
     "data": {
      "text/plain": [
       "array([[ 4,  5,  6,  7],\n",
       "       [ 8,  9, 10, 11]])"
      ]
     },
     "execution_count": 116,
     "metadata": {},
     "output_type": "execute_result"
    }
   ],
   "source": [
    "arr2[1:]"
   ]
  },
  {
   "cell_type": "code",
   "execution_count": 117,
   "id": "c706f43a-8326-4cea-b90a-f59df4e20712",
   "metadata": {},
   "outputs": [
    {
     "data": {
      "text/plain": [
       "array([[ 1,  2,  3],\n",
       "       [ 5,  6,  7],\n",
       "       [ 9, 10, 11]])"
      ]
     },
     "execution_count": 117,
     "metadata": {},
     "output_type": "execute_result"
    }
   ],
   "source": [
    "arr2[:,1:]"
   ]
  },
  {
   "cell_type": "code",
   "execution_count": 123,
   "id": "abc6313a-dfcc-485c-b712-a67dad0dae2f",
   "metadata": {},
   "outputs": [],
   "source": [
    "sarr = arr2[1:3, 2:4]"
   ]
  },
  {
   "cell_type": "code",
   "execution_count": 124,
   "id": "16c37e0a-0a0a-4bb6-acbf-cc99ac76e448",
   "metadata": {},
   "outputs": [
    {
     "name": "stdout",
     "output_type": "stream",
     "text": [
      "[[100   1   2   3]\n",
      " [  4   5 100   7]\n",
      " [  8   9  10  11]]\n"
     ]
    }
   ],
   "source": [
    "sarr[0,0] = 100  # sarr을 바꿨는데 arr2가 바뀜!!!\n",
    "print(arr2)"
   ]
  },
  {
   "cell_type": "code",
   "execution_count": null,
   "id": "7833de25-3927-4259-bd2c-c4af9691efbc",
   "metadata": {},
   "outputs": [],
   "source": []
  }
 ],
 "metadata": {
  "kernelspec": {
   "display_name": "Python 3 (ipykernel)",
   "language": "python",
   "name": "python3"
  },
  "language_info": {
   "codemirror_mode": {
    "name": "ipython",
    "version": 3
   },
   "file_extension": ".py",
   "mimetype": "text/x-python",
   "name": "python",
   "nbconvert_exporter": "python",
   "pygments_lexer": "ipython3",
   "version": "3.12.7"
  }
 },
 "nbformat": 4,
 "nbformat_minor": 5
}
