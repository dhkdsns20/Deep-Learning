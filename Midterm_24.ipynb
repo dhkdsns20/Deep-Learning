{
  "nbformat": 4,
  "nbformat_minor": 0,
  "metadata": {
    "colab": {
      "provenance": [],
      "authorship_tag": "ABX9TyO+O2Wg2ID2Bw+5voiUmxfS",
      "include_colab_link": true
    },
    "kernelspec": {
      "name": "python3",
      "display_name": "Python 3"
    },
    "language_info": {
      "name": "python"
    }
  },
  "cells": [
    {
      "cell_type": "markdown",
      "metadata": {
        "id": "view-in-github",
        "colab_type": "text"
      },
      "source": [
        "<a href=\"https://colab.research.google.com/github/dhkdsns20/Deep-Learning/blob/main/Midterm_24.ipynb\" target=\"_parent\"><img src=\"https://colab.research.google.com/assets/colab-badge.svg\" alt=\"Open In Colab\"/></a>"
      ]
    },
    {
      "cell_type": "markdown",
      "source": [
        "## 1번"
      ],
      "metadata": {
        "id": "H4JK1uc6RJR1"
      }
    },
    {
      "cell_type": "code",
      "source": [
        "import numpy as np"
      ],
      "metadata": {
        "id": "n-_aiyh5SDLh"
      },
      "execution_count": 4,
      "outputs": []
    },
    {
      "cell_type": "code",
      "execution_count": 11,
      "metadata": {
        "id": "b20AdiKZPksM"
      },
      "outputs": [],
      "source": [
        "def product(a, b = [1, 1, 1]):\n",
        "  if len(a) != len(b):\n",
        "    print('ERROR : a and b are different i n length')\n",
        "    return None\n",
        "\n",
        "  dot = np.dot(a,b)\n",
        "  return dot"
      ]
    },
    {
      "cell_type": "code",
      "source": [
        "a = np.array([1,2,3])\n",
        "b = np.array([1,0,1])\n",
        "c = product(a,b)\n",
        "d = product(a)\n",
        "print(c,d)\n",
        "\n",
        "e = np.array([1,2])\n",
        "f = product(e,b)\n",
        "print(f)"
      ],
      "metadata": {
        "colab": {
          "base_uri": "https://localhost:8080/"
        },
        "id": "i0l31FVzRLUh",
        "outputId": "fcb567a2-03a7-4d09-ef5b-8ce9923bb8e4"
      },
      "execution_count": 12,
      "outputs": [
        {
          "output_type": "stream",
          "name": "stdout",
          "text": [
            "4 6\n",
            "ERROR : a and b are different i n length\n",
            "None\n"
          ]
        }
      ]
    },
    {
      "cell_type": "markdown",
      "source": [
        "## 2번"
      ],
      "metadata": {
        "id": "YvzdghwOR9X8"
      }
    },
    {
      "cell_type": "code",
      "source": [
        "def extractCommon(a, b):\n",
        "    c = []\n",
        "    for x in a:\n",
        "        if x in b:\n",
        "            c.append(x)\n",
        "    return c"
      ],
      "metadata": {
        "id": "xhUG7i-OR7TX"
      },
      "execution_count": 34,
      "outputs": []
    },
    {
      "cell_type": "code",
      "source": [
        "a = [1,2,3,4]\n",
        "b = [2,3,4,5,6]\n",
        "c = extractCommon(a,b)\n",
        "print(c)"
      ],
      "metadata": {
        "colab": {
          "base_uri": "https://localhost:8080/"
        },
        "id": "3NJL_I5xSXm2",
        "outputId": "c0393f34-c928-4850-9e73-34b3b0f07955"
      },
      "execution_count": 35,
      "outputs": [
        {
          "output_type": "stream",
          "name": "stdout",
          "text": [
            "[2, 3, 4]\n"
          ]
        }
      ]
    },
    {
      "cell_type": "markdown",
      "source": [
        "## 3번"
      ],
      "metadata": {
        "id": "Rw05m2ebS11U"
      }
    },
    {
      "cell_type": "code",
      "source": [
        "class ATM:\n",
        "  def __init__(self,money):\n",
        "    self.money = money\n",
        "    print('Your account was open. Your initial balance is $',self.money)\n",
        "\n",
        "  def withdraw(self,ex):\n",
        "    total = self.money - ex\n",
        "    if total < 0:\n",
        "      print('ERROR : $',ex,'cannot be withdrawn. Your current balance is $',self.money)\n",
        "    else:\n",
        "      self.money -= ex\n",
        "      print('$',ex,' was withdrawn. Your balance is $',self.money)\n",
        "\n",
        "  def deposit(self,de):\n",
        "    self.money += de\n",
        "    print('you deposited $',de,'. Your balance is $',self.money)"
      ],
      "metadata": {
        "id": "zR31nt5MSfC2"
      },
      "execution_count": 24,
      "outputs": []
    },
    {
      "cell_type": "code",
      "source": [
        "me = ATM(100)\n",
        "me.withdraw(10)\n",
        "me.deposit(20)\n",
        "me.withdraw(200)"
      ],
      "metadata": {
        "colab": {
          "base_uri": "https://localhost:8080/"
        },
        "id": "wNCT_p05UMr-",
        "outputId": "95e5b946-9bdb-44b2-a6f0-a935b7ef8fee"
      },
      "execution_count": 25,
      "outputs": [
        {
          "output_type": "stream",
          "name": "stdout",
          "text": [
            "Your account was open. Your initial balance is $ 100\n",
            "$ 10  was withdrawn. Your balance is $ 90\n",
            "you deposited $ 20 . Your balance is $ 110\n",
            "ERROR : $ 200 cannot be withdrawn. Your current balance is $ 110\n"
          ]
        }
      ]
    },
    {
      "cell_type": "code",
      "source": [],
      "metadata": {
        "id": "c360uPXLUY42"
      },
      "execution_count": null,
      "outputs": []
    }
  ]
}