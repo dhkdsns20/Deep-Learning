{
 "cells": [
  {
   "cell_type": "code",
   "execution_count": 1,
   "id": "a2e633ff-9d24-47f0-9f5d-1f7eb7c7a1af",
   "metadata": {},
   "outputs": [],
   "source": [
    "import numpy as np"
   ]
  },
  {
   "cell_type": "markdown",
   "id": "5605622d-12e6-4375-a862-17345da1629c",
   "metadata": {},
   "source": [
    "## inner product(내적)"
   ]
  },
  {
   "cell_type": "code",
   "execution_count": 12,
   "id": "b3898186-504e-466f-ac20-4a805ba19025",
   "metadata": {},
   "outputs": [],
   "source": [
    "A = np.array([[1, 3],[2, 5]])\n",
    "B = np.array([1, 1])"
   ]
  },
  {
   "cell_type": "code",
   "execution_count": 16,
   "id": "80b42f15-a40e-476d-aad5-9fa52e080942",
   "metadata": {},
   "outputs": [
    {
     "data": {
      "text/plain": [
       "array([4, 7])"
      ]
     },
     "execution_count": 16,
     "metadata": {},
     "output_type": "execute_result"
    }
   ],
   "source": [
    "np.dot(A,B) # 각 행에 B 가 곱해짐"
   ]
  },
  {
   "cell_type": "code",
   "execution_count": 17,
   "id": "c4cc78e4-c582-48c5-8f5b-70685eaa702c",
   "metadata": {},
   "outputs": [
    {
     "data": {
      "text/plain": [
       "array([3, 8])"
      ]
     },
     "execution_count": 17,
     "metadata": {},
     "output_type": "execute_result"
    }
   ],
   "source": [
    "np.dot(A.T, B)"
   ]
  },
  {
   "cell_type": "markdown",
   "id": "9f317532-6048-4d79-9996-4b43988d2ac5",
   "metadata": {},
   "source": [
    "## Training algorithm (OR problem)"
   ]
  },
  {
   "cell_type": "code",
   "execution_count": 18,
   "id": "7bc5ae68-5ae3-435c-a942-077f3ca05914",
   "metadata": {},
   "outputs": [],
   "source": [
    "W = np.array([-0.5, 0.75])\n",
    "b = 0.375"
   ]
  },
  {
   "cell_type": "code",
   "execution_count": 20,
   "id": "1705eba3-e58b-4e2c-aaf6-dee70f3ab03e",
   "metadata": {},
   "outputs": [],
   "source": [
    "# 입력과 정답 정의\n",
    "x0 = np.array([0, 0])\n",
    "x1 = np.array([1, 0])\n",
    "x2 = np.array([0, 1])\n",
    "x3 = np.array([1, 1])\n",
    "t0 = -1\n",
    "t1 =  1\n",
    "t2 =  1\n",
    "t3 =  1"
   ]
  },
  {
   "cell_type": "code",
   "execution_count": 21,
   "id": "c9db8ab6-a94d-4a89-a59d-e787d7e4e6fd",
   "metadata": {},
   "outputs": [],
   "source": [
    "# 입력과 정답 정의 (간단)\n",
    "X = np.array([x0, x1, x2, x3])\n",
    "T = np.array([t0, t1 , t2, t3])"
   ]
  },
  {
   "cell_type": "code",
   "execution_count": 23,
   "id": "201e8e6d-2238-4058-b390-5f2522996cfe",
   "metadata": {},
   "outputs": [
    {
     "data": {
      "text/plain": [
       "(array([[0, 0],\n",
       "        [1, 0],\n",
       "        [0, 1],\n",
       "        [1, 1]]),\n",
       " array([-1,  1,  1,  1]))"
      ]
     },
     "execution_count": 23,
     "metadata": {},
     "output_type": "execute_result"
    }
   ],
   "source": [
    "X, T"
   ]
  },
  {
   "cell_type": "code",
   "execution_count": 27,
   "id": "b5fe387c-5ddd-4278-83e2-7ac23f0407ed",
   "metadata": {},
   "outputs": [
    {
     "name": "stdout",
     "output_type": "stream",
     "text": [
      "0.375 -0.125 1.125 0.625\n"
     ]
    }
   ],
   "source": [
    "# 출력 계산\n",
    "y1 = np.dot(W, x0) + b # A    \n",
    "y2 = np.dot(W, x1) + b # B    \n",
    "y3 = np.dot(W, x2) + b # C   \n",
    "y4 = np.dot(W, x3) + b # D    \n",
    "\n",
    "print(y1, y2, y3, y4)"
   ]
  },
  {
   "cell_type": "code",
   "execution_count": 28,
   "id": "12ea7ef1-8839-4112-a892-c9d18bf22a07",
   "metadata": {},
   "outputs": [
    {
     "name": "stdout",
     "output_type": "stream",
     "text": [
      "[ 0.375 -0.125  1.125  0.625]\n"
     ]
    }
   ],
   "source": [
    "# 출력 계산 (간단)\n",
    "y = np.dot(X,W) + b\n",
    "print(y)"
   ]
  },
  {
   "cell_type": "code",
   "execution_count": 34,
   "id": "b8227873-fea7-47df-8f13-7955a810dc51",
   "metadata": {},
   "outputs": [
    {
     "data": {
      "text/plain": [
       "array([ 1., -1.,  1.,  1.])"
      ]
     },
     "execution_count": 34,
     "metadata": {},
     "output_type": "execute_result"
    }
   ],
   "source": [
    "# 교재 외 구현 (출력)\n",
    "z = np.ones(y.shape)\n",
    "z[y<0.0] =-1\n",
    "z"
   ]
  },
  {
   "cell_type": "markdown",
   "id": "c2e7bd83-1747-41c6-aff7-d8c2f7cf5e80",
   "metadata": {},
   "source": [
    "### 퍼셉트론 구현 (교재 p.6 참고)"
   ]
  },
  {
   "cell_type": "code",
   "execution_count": 120,
   "id": "60f1d402-07da-4327-9bbe-6b3b6577c8e8",
   "metadata": {},
   "outputs": [],
   "source": [
    "# 재정의\n",
    "W = np.array([-0.5, 0.75])\n",
    "b = 0.375\n",
    "\n",
    "# 입력과 정답 정의\n",
    "x0 = np.array([0, 0])\n",
    "x1 = np.array([1, 0])\n",
    "x2 = np.array([0, 1])\n",
    "x3 = np.array([1, 1])\n",
    "t0 = -1\n",
    "t1 =  1\n",
    "t2 =  1\n",
    "t3 =  1\n",
    "\n",
    "Xset = np.array([x0, x1, x2, x3])\n",
    "T = np.array([t0, t1 , t2, t3])"
   ]
  },
  {
   "cell_type": "code",
   "execution_count": 121,
   "id": "2ff616b5-4551-415b-8625-f50dbef4a933",
   "metadata": {},
   "outputs": [],
   "source": [
    "def perceptron_1(W,x,b):\n",
    "    y =  np.dot(W,x) + b\n",
    "    if y >= 0.0: z = 1\n",
    "    else:        z = -1\n",
    "    return y,z"
   ]
  },
  {
   "cell_type": "code",
   "execution_count": 122,
   "id": "c267fbb7-7997-490a-b672-96b09d8903fe",
   "metadata": {},
   "outputs": [],
   "source": [
    "def perceptorn_predict(W,Xset,b):\n",
    "    y_set = []\n",
    "    z_set = []\n",
    "\n",
    "    for x in Xset:\n",
    "        y, z = perceptron_1(W,x,b)\n",
    "        y_set.append(y)\n",
    "        z_set.append(z)\n",
    "    return y_set, z_set\n"
   ]
  },
  {
   "cell_type": "code",
   "execution_count": 123,
   "id": "558c785b-d1f6-48bf-ae0c-7b4e7ef29a38",
   "metadata": {},
   "outputs": [],
   "source": [
    "y_s, z_s = perceptorn_predict(W, Xset, b)"
   ]
  },
  {
   "cell_type": "code",
   "execution_count": 124,
   "id": "58bd10f9-1b3b-45e1-8f63-6bb0f67ea18f",
   "metadata": {},
   "outputs": [
    {
     "data": {
      "text/plain": [
       "([1, -1, 1, 1], array([-1,  1,  1,  1]))"
      ]
     },
     "execution_count": 124,
     "metadata": {},
     "output_type": "execute_result"
    }
   ],
   "source": [
    "z_s, T"
   ]
  },
  {
   "cell_type": "code",
   "execution_count": 125,
   "id": "63b93605-39dd-49f5-b122-2811964033e7",
   "metadata": {},
   "outputs": [],
   "source": [
    "Y_incorrect = z_s != T"
   ]
  },
  {
   "cell_type": "code",
   "execution_count": 126,
   "id": "3de0b0d9-6e1b-4c45-8636-12c7ef13ef2a",
   "metadata": {},
   "outputs": [
    {
     "data": {
      "text/plain": [
       "array([ True,  True, False, False])"
      ]
     },
     "execution_count": 126,
     "metadata": {},
     "output_type": "execute_result"
    }
   ],
   "source": [
    "Y_incorrect"
   ]
  },
  {
   "cell_type": "markdown",
   "id": "853bcd34-cec7-49c2-8dde-9507a71bcfba",
   "metadata": {
    "jp-MarkdownHeadingCollapsed": true
   },
   "source": [
    "### zip함수"
   ]
  },
  {
   "cell_type": "code",
   "execution_count": 127,
   "id": "3ac62fd3-a441-42f9-a4b0-0158e67cbca5",
   "metadata": {},
   "outputs": [
    {
     "data": {
      "text/plain": [
       "[(array([0, 0]), -1),\n",
       " (array([1, 0]), 1),\n",
       " (array([0, 1]), 1),\n",
       " (array([1, 1]), 1)]"
      ]
     },
     "execution_count": 127,
     "metadata": {},
     "output_type": "execute_result"
    }
   ],
   "source": [
    "# zip 함수\n",
    "list(zip(Xset,T))"
   ]
  },
  {
   "cell_type": "code",
   "execution_count": 128,
   "id": "62e0d081-5ee3-44d8-87e8-af81cc0dcc14",
   "metadata": {
    "scrolled": true
   },
   "outputs": [
    {
     "name": "stdout",
     "output_type": "stream",
     "text": [
      "[0 0] -1\n",
      "[1 0] 1\n",
      "[0 1] 1\n",
      "[1 1] 1\n"
     ]
    }
   ],
   "source": [
    "for x, t_i in zip(Xset,T):\n",
    "    print(x,t_i)"
   ]
  },
  {
   "cell_type": "markdown",
   "id": "cd48a36e-ce3a-4741-ba17-fbdd8b4bb533",
   "metadata": {},
   "source": [
    "### 계속 구현"
   ]
  },
  {
   "cell_type": "code",
   "execution_count": 129,
   "id": "076d5706-1af9-4385-a070-26e5ab01c8a3",
   "metadata": {
    "scrolled": true
   },
   "outputs": [
    {
     "name": "stdout",
     "output_type": "stream",
     "text": [
      "[0.4 0. ] 0.0 [-0.1   0.75] 0.375\n"
     ]
    }
   ],
   "source": [
    "alpha = 0.4\n",
    "\n",
    "# np.count_nonzero() 함수\n",
    "if np.count_nonzero(Y_incorrect) != 0:\n",
    "    delta_w = 0.0\n",
    "    delta_b = 0.0\n",
    " \n",
    "    # update W, b\n",
    "    for flag, ti, xi in zip(Y_incorrect, T, Xset):\n",
    "        if flag == True:\n",
    "            delta_w += ti * xi\n",
    "            delta_b += ti\n",
    "\n",
    "    delta_w = alpha * delta_w\n",
    "    delta_b = alpha * delta_b\n",
    "\n",
    "    W = W + delta_w\n",
    "    b = b + delta_b\n",
    "\n",
    "    print(delta_w, delta_b, W, b) # W, b가 업데이트 됨"
   ]
  },
  {
   "cell_type": "markdown",
   "id": "b3daef8f-f4fd-4148-ac52-3b6968b9b84e",
   "metadata": {},
   "source": [
    "#### 반복"
   ]
  },
  {
   "cell_type": "code",
   "execution_count": 130,
   "id": "98a5c750-d8ad-4335-81ed-45c4af5edbd4",
   "metadata": {},
   "outputs": [
    {
     "name": "stdout",
     "output_type": "stream",
     "text": [
      "[0.375, 0.275, 1.125, 1.025] [1, 1, 1, 1]\n"
     ]
    }
   ],
   "source": [
    "# 다시 예측 (업데이트 된  W , b 이용)\n",
    "y_s, z_s = perceptorn_predict(W, Xset, b)\n",
    "print(y_s, z_s)"
   ]
  },
  {
   "cell_type": "code",
   "execution_count": 131,
   "id": "bf52aecc-d3ba-4021-b2ee-73754fe9c6ac",
   "metadata": {},
   "outputs": [
    {
     "name": "stdout",
     "output_type": "stream",
     "text": [
      "[ True False False False]\n"
     ]
    }
   ],
   "source": [
    "Y_incorrect = z_s != T\n",
    "print(Y_incorrect)"
   ]
  },
  {
   "cell_type": "markdown",
   "id": "d46f4f33-9ad3-42b6-a3ed-a4601868aa70",
   "metadata": {},
   "source": [
    "## 직선이 나올때 까지 반복"
   ]
  },
  {
   "cell_type": "code",
   "execution_count": 153,
   "id": "b03ea1c5-3742-4fc2-a921-bf75b843550d",
   "metadata": {},
   "outputs": [],
   "source": [
    "# 재정의\n",
    "W = np.array([-0.5, 0.75])\n",
    "b = 0.375\n",
    "\n",
    "# 입력과 정답 정의\n",
    "Xset = np.array([[0, 0],[1, 0],[0, 1],[1, 1]])\n",
    "T = np.array([-1, 1, 1, 1])"
   ]
  },
  {
   "cell_type": "code",
   "execution_count": 154,
   "id": "03fcc15e-c41a-4394-a205-2ccd093aea8e",
   "metadata": {},
   "outputs": [
    {
     "name": "stdout",
     "output_type": "stream",
     "text": [
      "1 [0.4 0. ] 0.0 [-0.1   0.75] 0.375 [ True  True False False]\n",
      "2 [0. 0.] -0.4 [-0.1   0.75] -0.025000000000000022 [ True False False False]\n",
      "3 [0.4 0. ] 0.4 [0.3  0.75] 0.375 [False  True False False]\n",
      "4 [0. 0.] -0.4 [0.3  0.75] -0.025000000000000022 [ True False False False]\n",
      "5 [0. 0.] -0.4 [0.3  0.75] -0.025000000000000022 [False False False False]\n"
     ]
    }
   ],
   "source": [
    "iter = 0\n",
    "\n",
    "for i in np.arange(100):\n",
    "    # 예측\n",
    "    y_s, z_s = perceptorn_predict(W, Xset, b)    \n",
    "    Y_incorrect = z_s != T\n",
    "\n",
    "    # count up\n",
    "    iter += 1\n",
    "    \n",
    "       # 여전히 오류가 존재하는 경우\n",
    "    if np.count_nonzero(Y_incorrect) != 0:\n",
    "        delta_w = 0.0\n",
    "        delta_b = 0.0\n",
    "     \n",
    "        # update W, b\n",
    "        for flag, ti, xi in zip(Y_incorrect, T, Xset):\n",
    "            if flag == True:\n",
    "                delta_w += ti * xi\n",
    "                delta_b += ti\n",
    "    \n",
    "        delta_w = alpha * delta_w\n",
    "        delta_b = alpha * delta_b\n",
    "    \n",
    "        W = W + delta_w\n",
    "        b = b + delta_b\n",
    "\n",
    "        print(iter, delta_w, delta_b, W, b, Y_incorrect)\n",
    "\n",
    "    else:\n",
    "         # 오류가 없을 경우    \n",
    "        print(iter, delta_w, delta_b, W, b, Y_incorrect)\n",
    "        break "
   ]
  },
  {
   "cell_type": "code",
   "execution_count": null,
   "id": "61ac160b-449b-4595-8fa6-4b93101a8d2b",
   "metadata": {},
   "outputs": [],
   "source": []
  }
 ],
 "metadata": {
  "kernelspec": {
   "display_name": "Python 3 (ipykernel)",
   "language": "python",
   "name": "python3"
  },
  "language_info": {
   "codemirror_mode": {
    "name": "ipython",
    "version": 3
   },
   "file_extension": ".py",
   "mimetype": "text/x-python",
   "name": "python",
   "nbconvert_exporter": "python",
   "pygments_lexer": "ipython3",
   "version": "3.12.7"
  }
 },
 "nbformat": 4,
 "nbformat_minor": 5
}
