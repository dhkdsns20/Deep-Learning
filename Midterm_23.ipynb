{
  "nbformat": 4,
  "nbformat_minor": 0,
  "metadata": {
    "colab": {
      "provenance": [],
      "authorship_tag": "ABX9TyNFQvf2UtKrx4oVsJIz2CXl",
      "include_colab_link": true
    },
    "kernelspec": {
      "name": "python3",
      "display_name": "Python 3"
    },
    "language_info": {
      "name": "python"
    }
  },
  "cells": [
    {
      "cell_type": "markdown",
      "metadata": {
        "id": "view-in-github",
        "colab_type": "text"
      },
      "source": [
        "<a href=\"https://colab.research.google.com/github/dhkdsns20/Deep-Learning/blob/main/Midterm_23.ipynb\" target=\"_parent\"><img src=\"https://colab.research.google.com/assets/colab-badge.svg\" alt=\"Open In Colab\"/></a>"
      ]
    },
    {
      "cell_type": "code",
      "source": [
        "a, b = 3, 3\n",
        "print(a > b, a >= b, a % b, a ** b, type(a))\n"
      ],
      "metadata": {
        "colab": {
          "base_uri": "https://localhost:8080/"
        },
        "id": "1HA_WWmVLq0P",
        "outputId": "5b27e402-a68c-4e4a-f7de-973da16ecd20"
      },
      "execution_count": 1,
      "outputs": [
        {
          "output_type": "stream",
          "name": "stdout",
          "text": [
            "False True 0 27 <class 'int'>\n"
          ]
        }
      ]
    },
    {
      "cell_type": "code",
      "source": [
        "a, b = 'hello', 'hello \"world\"'\n",
        "print(a, b, a[-1], a[1], a.upper(),sep='*')"
      ],
      "metadata": {
        "colab": {
          "base_uri": "https://localhost:8080/"
        },
        "id": "C8FCFXDAVjLm",
        "outputId": "f34fd2e0-33c2-4a06-938c-317f73bceb73"
      },
      "execution_count": 2,
      "outputs": [
        {
          "output_type": "stream",
          "name": "stdout",
          "text": [
            "hello*hello \"world\"*o*e*HELLO\n"
          ]
        }
      ]
    },
    {
      "cell_type": "code",
      "source": [
        "a = 'hello'.replace('h', 'hhh').upper()\n",
        "print(a)\n"
      ],
      "metadata": {
        "colab": {
          "base_uri": "https://localhost:8080/"
        },
        "id": "76jzNVb6V7gC",
        "outputId": "8c2ec66a-22aa-45b3-a53a-b5a3d68af9f3"
      },
      "execution_count": 3,
      "outputs": [
        {
          "output_type": "stream",
          "name": "stdout",
          "text": [
            "HHHELLO\n"
          ]
        }
      ]
    },
    {
      "cell_type": "code",
      "source": [
        "b = 'hello \"world\"'\n",
        "print(b[:], b[:2], b[1:3], b[3:3])\n"
      ],
      "metadata": {
        "colab": {
          "base_uri": "https://localhost:8080/"
        },
        "id": "9JMheErwWVVB",
        "outputId": "603c25c0-5442-4497-89a2-70af3f6bbd8d"
      },
      "execution_count": 4,
      "outputs": [
        {
          "output_type": "stream",
          "name": "stdout",
          "text": [
            "hello \"world\" he el \n"
          ]
        }
      ]
    },
    {
      "cell_type": "code",
      "source": [
        "c = 1, 2, 3\n",
        "d = list(c)\n",
        "print(c,d)"
      ],
      "metadata": {
        "colab": {
          "base_uri": "https://localhost:8080/"
        },
        "id": "BNIWaT1GWf89",
        "outputId": "85f00020-1d64-4615-c7ec-88930fe0aa7d"
      },
      "execution_count": 5,
      "outputs": [
        {
          "output_type": "stream",
          "name": "stdout",
          "text": [
            "(1, 2, 3) [1, 2, 3]\n"
          ]
        }
      ]
    },
    {
      "cell_type": "code",
      "source": [
        "a = [1, 2, 3, 4, 5]\n",
        "a.remove(2)\n",
        "print(a)"
      ],
      "metadata": {
        "colab": {
          "base_uri": "https://localhost:8080/"
        },
        "id": "q1BTNaOxW2oJ",
        "outputId": "e6d40bf4-4e6d-4d12-c2c7-48a03624a44f"
      },
      "execution_count": 6,
      "outputs": [
        {
          "output_type": "stream",
          "name": "stdout",
          "text": [
            "[1, 3, 4, 5]\n"
          ]
        }
      ]
    },
    {
      "cell_type": "code",
      "source": [
        "b = 4\n",
        "c = b in a\n",
        "print(c)"
      ],
      "metadata": {
        "colab": {
          "base_uri": "https://localhost:8080/"
        },
        "id": "FgjD_yZMW9s_",
        "outputId": "c51ead65-9de6-4333-f22e-662be8500bcb"
      },
      "execution_count": 8,
      "outputs": [
        {
          "output_type": "stream",
          "name": "stdout",
          "text": [
            "True\n"
          ]
        }
      ]
    },
    {
      "cell_type": "code",
      "source": [
        "a = {100: 2, 200: 3, 300: 'seoul', 0: 'korea'}\n",
        "print(type(a), a[0], a.keys(), a.values())"
      ],
      "metadata": {
        "colab": {
          "base_uri": "https://localhost:8080/"
        },
        "id": "weIkcNnTXHI6",
        "outputId": "08b6360e-2dcf-4fad-e6bf-a2e2cf5072ba"
      },
      "execution_count": 9,
      "outputs": [
        {
          "output_type": "stream",
          "name": "stdout",
          "text": [
            "<class 'dict'> korea dict_keys([100, 200, 300, 0]) dict_values([2, 3, 'seoul', 'korea'])\n"
          ]
        }
      ]
    },
    {
      "cell_type": "code",
      "source": [
        "a = {1: 2, 3: 4, 5: 6, 7: 8}\n",
        "c = 2 in a\n",
        "print(c,a.get(3))"
      ],
      "metadata": {
        "colab": {
          "base_uri": "https://localhost:8080/"
        },
        "id": "oR1X2nRYXV0U",
        "outputId": "3fc06ea9-8c62-4d03-9665-b33ae36cada4"
      },
      "execution_count": 13,
      "outputs": [
        {
          "output_type": "stream",
          "name": "stdout",
          "text": [
            "False 4\n"
          ]
        }
      ]
    },
    {
      "cell_type": "code",
      "source": [
        "y = 0\n",
        "for x in range(10):\n",
        "    y += x\n",
        "print(x,y)"
      ],
      "metadata": {
        "colab": {
          "base_uri": "https://localhost:8080/"
        },
        "id": "XOGaBKpEX1MF",
        "outputId": "59dfdadd-f7f0-44fc-e74a-84203112fe24"
      },
      "execution_count": 14,
      "outputs": [
        {
          "output_type": "stream",
          "name": "stdout",
          "text": [
            "9 45\n"
          ]
        }
      ]
    },
    {
      "cell_type": "code",
      "source": [
        "a = list(range(3, 10))\n",
        "print(a)"
      ],
      "metadata": {
        "colab": {
          "base_uri": "https://localhost:8080/"
        },
        "id": "-8ilTbWMYAp1",
        "outputId": "ed9f4a52-2a2c-4c97-d881-ae0a3770a496"
      },
      "execution_count": 15,
      "outputs": [
        {
          "output_type": "stream",
          "name": "stdout",
          "text": [
            "[3, 4, 5, 6, 7, 8, 9]\n"
          ]
        }
      ]
    },
    {
      "cell_type": "code",
      "source": [
        "a = [100, 200, 300, 400]\n",
        "for x in a:\n",
        "  if x>100:\n",
        "    continue\n",
        "  print(x)"
      ],
      "metadata": {
        "colab": {
          "base_uri": "https://localhost:8080/"
        },
        "id": "WMxGHtS9YGbV",
        "outputId": "8d900be4-bd2f-41de-b09f-9eb1e188b807"
      },
      "execution_count": 16,
      "outputs": [
        {
          "output_type": "stream",
          "name": "stdout",
          "text": [
            "100\n"
          ]
        }
      ]
    },
    {
      "cell_type": "code",
      "source": [
        "a = {1:2, 3:4, 5:6, 7:8}\n",
        "for x in a:\n",
        "    print(x)"
      ],
      "metadata": {
        "colab": {
          "base_uri": "https://localhost:8080/"
        },
        "id": "VJNUAvBZYRpG",
        "outputId": "56a77b8a-985a-4738-97f2-324c79c5f0bd"
      },
      "execution_count": 17,
      "outputs": [
        {
          "output_type": "stream",
          "name": "stdout",
          "text": [
            "1\n",
            "3\n",
            "5\n",
            "7\n"
          ]
        }
      ]
    },
    {
      "cell_type": "code",
      "source": [
        "a = {1:2, 3:4, 5:6, 7:8}\n",
        "for x in a.items():\n",
        "    print(x)"
      ],
      "metadata": {
        "colab": {
          "base_uri": "https://localhost:8080/"
        },
        "id": "wu2xys3-YU39",
        "outputId": "03c1401c-c0a7-4304-9c59-c531e2909cbf"
      },
      "execution_count": 18,
      "outputs": [
        {
          "output_type": "stream",
          "name": "stdout",
          "text": [
            "(1, 2)\n",
            "(3, 4)\n",
            "(5, 6)\n",
            "(7, 8)\n"
          ]
        }
      ]
    },
    {
      "cell_type": "code",
      "source": [
        "a = {1:2, 3:4, 5:6, 7:8}\n",
        "for x in enumerate(a):\n",
        "    print(x)"
      ],
      "metadata": {
        "colab": {
          "base_uri": "https://localhost:8080/"
        },
        "id": "jRwQErq9YalQ",
        "outputId": "6ac0db58-5c46-4363-e697-28b007db8505"
      },
      "execution_count": 19,
      "outputs": [
        {
          "output_type": "stream",
          "name": "stdout",
          "text": [
            "(0, 1)\n",
            "(1, 3)\n",
            "(2, 5)\n",
            "(3, 7)\n"
          ]
        }
      ]
    },
    {
      "cell_type": "code",
      "source": [
        "def fun(x, y, z=1):\n",
        "    return x+y+z, x-y-z\n",
        "print(fun(1,2),fun(1,2,3),fun(y=2,x=1))"
      ],
      "metadata": {
        "colab": {
          "base_uri": "https://localhost:8080/"
        },
        "id": "oGaFyMD5Ye9Z",
        "outputId": "41169309-fe3f-40e6-b20f-692847ee0a39"
      },
      "execution_count": 21,
      "outputs": [
        {
          "output_type": "stream",
          "name": "stdout",
          "text": [
            "(4, -2) (6, -4) (4, -2)\n"
          ]
        }
      ]
    },
    {
      "cell_type": "code",
      "source": [
        "def test(*args):\n",
        "    for x in args:\n",
        "      print(x)\n",
        "test(1,2,3, '123')"
      ],
      "metadata": {
        "colab": {
          "base_uri": "https://localhost:8080/"
        },
        "id": "Az-vWZksYuDc",
        "outputId": "eb466b19-14b6-41a5-f7dd-784fa00b3752"
      },
      "execution_count": 22,
      "outputs": [
        {
          "output_type": "stream",
          "name": "stdout",
          "text": [
            "1\n",
            "2\n",
            "3\n",
            "123\n"
          ]
        }
      ]
    },
    {
      "cell_type": "code",
      "source": [
        "f = lambda x, y: x + y\n",
        "print(f(10,f(10,20)))"
      ],
      "metadata": {
        "colab": {
          "base_uri": "https://localhost:8080/"
        },
        "id": "mJzoF3DOZCaI",
        "outputId": "cfdde4a4-9f40-4b30-883c-38006ae52342"
      },
      "execution_count": 26,
      "outputs": [
        {
          "output_type": "stream",
          "name": "stdout",
          "text": [
            "40\n"
          ]
        }
      ]
    },
    {
      "cell_type": "code",
      "source": [
        "a=[1,2,3,4,5]\n",
        "b = list(map(lambda n: n%2==0, a))\n",
        "print(b)"
      ],
      "metadata": {
        "colab": {
          "base_uri": "https://localhost:8080/"
        },
        "id": "nkB8bDGjZ1xw",
        "outputId": "843f8d33-bcae-4bf2-904d-993176b31a57"
      },
      "execution_count": 27,
      "outputs": [
        {
          "output_type": "stream",
          "name": "stdout",
          "text": [
            "[False, True, False, True, False]\n"
          ]
        }
      ]
    },
    {
      "cell_type": "code",
      "source": [
        "a=[1,2,3,4,5]\n",
        "b = list(filter(lambda n: n%2==0, a))\n",
        "print(b)"
      ],
      "metadata": {
        "colab": {
          "base_uri": "https://localhost:8080/"
        },
        "id": "KxtiMdu1aEi_",
        "outputId": "e249e30e-1217-44f6-90f9-f29f5150f601"
      },
      "execution_count": 28,
      "outputs": [
        {
          "output_type": "stream",
          "name": "stdout",
          "text": [
            "[2, 4]\n"
          ]
        }
      ]
    },
    {
      "cell_type": "code",
      "source": [
        "import numpy as np\n",
        "a =np.array([[1],[2],[3]])\n",
        "b =np.array([[1,2],[3,4],[5,6]])\n",
        "print(a.shape, b.shape, b[0,1])"
      ],
      "metadata": {
        "colab": {
          "base_uri": "https://localhost:8080/"
        },
        "id": "MJEh6r3WaG_x",
        "outputId": "84698744-561d-4fe1-cea6-5761bf6844b9"
      },
      "execution_count": 29,
      "outputs": [
        {
          "output_type": "stream",
          "name": "stdout",
          "text": [
            "(3, 1) (3, 2) 2\n"
          ]
        }
      ]
    },
    {
      "cell_type": "code",
      "source": [
        "a = np.ones((3,2)) * 5\n",
        "print(a)"
      ],
      "metadata": {
        "colab": {
          "base_uri": "https://localhost:8080/"
        },
        "id": "lBANGCNuaa0K",
        "outputId": "22e4a581-af35-4a68-e251-144abefb3148"
      },
      "execution_count": 31,
      "outputs": [
        {
          "output_type": "stream",
          "name": "stdout",
          "text": [
            "[[5. 5.]\n",
            " [5. 5.]\n",
            " [5. 5.]]\n"
          ]
        }
      ]
    },
    {
      "cell_type": "code",
      "source": [
        "a = np.ones((3,2)).reshape(-1)+5\n",
        "print(a)"
      ],
      "metadata": {
        "colab": {
          "base_uri": "https://localhost:8080/"
        },
        "id": "RtdYYH5faf5d",
        "outputId": "4cc58b66-2a75-4586-b7d4-a4e44c3e65b2"
      },
      "execution_count": 35,
      "outputs": [
        {
          "output_type": "stream",
          "name": "stdout",
          "text": [
            "[1. 1. 1. 1. 1. 1.]\n"
          ]
        }
      ]
    },
    {
      "cell_type": "code",
      "source": [
        "a = np.array([[1,2],[3,4],[5,6]])\n",
        "a[a>=4] = 0\n",
        "print(a)"
      ],
      "metadata": {
        "colab": {
          "base_uri": "https://localhost:8080/"
        },
        "id": "by40yhA2av0d",
        "outputId": "156c3879-ca25-4af0-911c-8a5227f9964b"
      },
      "execution_count": 37,
      "outputs": [
        {
          "output_type": "stream",
          "name": "stdout",
          "text": [
            "[[1 2]\n",
            " [3 0]\n",
            " [0 0]]\n"
          ]
        }
      ]
    },
    {
      "cell_type": "code",
      "source": [
        "a = np.array([[1,2],[3,4],[5,6]])\n",
        "b = np.expand_dims(a,0)\n",
        "c = np.expand_dims(a,1)\n",
        "d = np.expand_dims(a,-1)\n",
        "print(b.shape, c.shape, d.shape)\n",
        "print(b,'\\n', c,'\\n',d)"
      ],
      "metadata": {
        "colab": {
          "base_uri": "https://localhost:8080/"
        },
        "id": "8K19NL3Ybf4C",
        "outputId": "f78eb270-4aad-413e-b083-cca01bea14ec"
      },
      "execution_count": 44,
      "outputs": [
        {
          "output_type": "stream",
          "name": "stdout",
          "text": [
            "(1, 3, 2) (3, 1, 2) (3, 2, 1)\n",
            "[[[1 2]\n",
            "  [3 4]\n",
            "  [5 6]]] \n",
            " [[[1 2]]\n",
            "\n",
            " [[3 4]]\n",
            "\n",
            " [[5 6]]] \n",
            " [[[1]\n",
            "  [2]]\n",
            "\n",
            " [[3]\n",
            "  [4]]\n",
            "\n",
            " [[5]\n",
            "  [6]]]\n"
          ]
        }
      ]
    },
    {
      "cell_type": "code",
      "source": [
        "ex = np.ones(5)\n",
        "print(ex.shape)"
      ],
      "metadata": {
        "colab": {
          "base_uri": "https://localhost:8080/"
        },
        "id": "v3vV-ze4b8xL",
        "outputId": "d229018c-923d-4015-f3bf-7ef9b0cd3454"
      },
      "execution_count": 48,
      "outputs": [
        {
          "output_type": "stream",
          "name": "stdout",
          "text": [
            "(5,)\n"
          ]
        }
      ]
    },
    {
      "cell_type": "code",
      "source": [
        "print(ex)"
      ],
      "metadata": {
        "colab": {
          "base_uri": "https://localhost:8080/"
        },
        "id": "y1NJgg3QeJSL",
        "outputId": "66994d0a-d9bd-4d64-a34a-45abf30b15bc"
      },
      "execution_count": 50,
      "outputs": [
        {
          "output_type": "stream",
          "name": "stdout",
          "text": [
            "[1. 1. 1. 1. 1.]\n"
          ]
        }
      ]
    },
    {
      "cell_type": "code",
      "source": [],
      "metadata": {
        "id": "X913c7JWfIhf"
      },
      "execution_count": null,
      "outputs": []
    }
  ]
}