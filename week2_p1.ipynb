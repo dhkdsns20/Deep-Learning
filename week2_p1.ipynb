{
  "nbformat": 4,
  "nbformat_minor": 0,
  "metadata": {
    "colab": {
      "provenance": [],
      "authorship_tag": "ABX9TyPlv2+8ObomG/bIAH/i4sN3",
      "include_colab_link": true
    },
    "kernelspec": {
      "name": "python3",
      "display_name": "Python 3"
    },
    "language_info": {
      "name": "python"
    }
  },
  "cells": [
    {
      "cell_type": "markdown",
      "metadata": {
        "id": "view-in-github",
        "colab_type": "text"
      },
      "source": [
        "<a href=\"https://colab.research.google.com/github/dhkdsns20/Deep-Learning/blob/main/week2_p1.ipynb\" target=\"_parent\"><img src=\"https://colab.research.google.com/assets/colab-badge.svg\" alt=\"Open In Colab\"/></a>"
      ]
    },
    {
      "cell_type": "code",
      "execution_count": 2,
      "metadata": {
        "colab": {
          "base_uri": "https://localhost:8080/"
        },
        "id": "sOCmVRuaPGKo",
        "outputId": "575a630e-c3d6-40ec-cffb-495b79c3bf78"
      },
      "outputs": [
        {
          "output_type": "stream",
          "name": "stdout",
          "text": [
            "value= 1 index= 0\n",
            "value= 10 index= 1\n",
            "value= 20 index= 2\n",
            "value= 100 index= 3\n"
          ]
        }
      ],
      "source": [
        "a=[1,10,20,100]\n",
        "i=0\n",
        "while i<len(a):\n",
        "  print('value=',a[i],'index=',i)\n",
        "  i+=1\n",
        "\n"
      ]
    },
    {
      "cell_type": "code",
      "source": [
        "for i in a:\n",
        "  print(i,i*2)"
      ],
      "metadata": {
        "colab": {
          "base_uri": "https://localhost:8080/"
        },
        "id": "V9-68A4aPXci",
        "outputId": "3e476afa-2ccd-4e5b-e32d-879b14757da9"
      },
      "execution_count": 3,
      "outputs": [
        {
          "output_type": "stream",
          "name": "stdout",
          "text": [
            "1 2\n",
            "10 20\n",
            "20 40\n",
            "100 200\n"
          ]
        }
      ]
    },
    {
      "cell_type": "code",
      "source": [
        "a='hello world'\n",
        "for char in a:\n",
        "  print(char)"
      ],
      "metadata": {
        "colab": {
          "base_uri": "https://localhost:8080/"
        },
        "id": "BmM3w7k4Pjjt",
        "outputId": "fc397720-efe8-4c9c-b420-085f72ab7be6"
      },
      "execution_count": 4,
      "outputs": [
        {
          "output_type": "stream",
          "name": "stdout",
          "text": [
            "h\n",
            "e\n",
            "l\n",
            "l\n",
            "o\n",
            " \n",
            "w\n",
            "o\n",
            "r\n",
            "l\n",
            "d\n"
          ]
        }
      ]
    },
    {
      "cell_type": "code",
      "source": [
        "a = {'korea':'seoul', 'canada': 'ottawa'}\n",
        "for i in a:\n",
        "  print(i,a[i])"
      ],
      "metadata": {
        "colab": {
          "base_uri": "https://localhost:8080/"
        },
        "id": "cETtnbycPqP7",
        "outputId": "5dc89c70-67f3-4a86-adf5-3b319a8a5daf"
      },
      "execution_count": 5,
      "outputs": [
        {
          "output_type": "stream",
          "name": "stdout",
          "text": [
            "korea seoul\n",
            "canada ottawa\n"
          ]
        }
      ]
    },
    {
      "cell_type": "code",
      "source": [
        "for key in a.keys():\n",
        "  print(key,a[key])"
      ],
      "metadata": {
        "colab": {
          "base_uri": "https://localhost:8080/"
        },
        "id": "sDBqUaKmP4RZ",
        "outputId": "bacd0fb2-3c8c-4ff2-f1a9-b94cd31a2d74"
      },
      "execution_count": 6,
      "outputs": [
        {
          "output_type": "stream",
          "name": "stdout",
          "text": [
            "korea seoul\n",
            "canada ottawa\n"
          ]
        }
      ]
    },
    {
      "cell_type": "code",
      "source": [
        "for value in a.values():\n",
        "  print(value)"
      ],
      "metadata": {
        "colab": {
          "base_uri": "https://localhost:8080/"
        },
        "id": "TJ5ik039QBZu",
        "outputId": "a11bdbdc-5f2f-4305-f595-609712966686"
      },
      "execution_count": 8,
      "outputs": [
        {
          "output_type": "stream",
          "name": "stdout",
          "text": [
            "seoul\n",
            "ottawa\n"
          ]
        }
      ]
    },
    {
      "cell_type": "code",
      "source": [
        "b = list(a.items())\n",
        "print(type(b))"
      ],
      "metadata": {
        "colab": {
          "base_uri": "https://localhost:8080/"
        },
        "id": "qxdL1K0WQFBR",
        "outputId": "487bb1aa-bf37-4058-c317-110b6ac40064"
      },
      "execution_count": 20,
      "outputs": [
        {
          "output_type": "stream",
          "name": "stdout",
          "text": [
            "<class 'list'>\n",
            "('korea', 'seoul') 2\n"
          ]
        }
      ]
    },
    {
      "cell_type": "code",
      "source": [
        "for key in b:\n",
        "  print(key)"
      ],
      "metadata": {
        "colab": {
          "base_uri": "https://localhost:8080/"
        },
        "id": "Ik0-i9e7QM1e",
        "outputId": "d7cbf42d-777c-474d-fd8f-d9d86597e3cc"
      },
      "execution_count": 24,
      "outputs": [
        {
          "output_type": "stream",
          "name": "stdout",
          "text": [
            "('korea', 'seoul')\n",
            "('canada', 'ottawa')\n"
          ]
        }
      ]
    },
    {
      "cell_type": "code",
      "source": [
        "a=[10,20,30,40]\n",
        "for index, value in enumerate(a):\n",
        "  print(index,value)"
      ],
      "metadata": {
        "colab": {
          "base_uri": "https://localhost:8080/"
        },
        "id": "ihkAz-c6QySe",
        "outputId": "ba470d65-db72-461b-ee2e-20d2c119fbc5"
      },
      "execution_count": 25,
      "outputs": [
        {
          "output_type": "stream",
          "name": "stdout",
          "text": [
            "0 10\n",
            "1 20\n",
            "2 30\n",
            "3 40\n"
          ]
        }
      ]
    },
    {
      "cell_type": "code",
      "source": [
        "a=[10,20,30,40,50,60,70]\n",
        "for value in a:\n",
        "  if value>30 and value<70:\n",
        "    continue\n",
        "  print(value)"
      ],
      "metadata": {
        "colab": {
          "base_uri": "https://localhost:8080/"
        },
        "id": "Za8cbohRSNIW",
        "outputId": "e2c82242-691f-430a-fd6f-2a6527bb4e5d"
      },
      "execution_count": 26,
      "outputs": [
        {
          "output_type": "stream",
          "name": "stdout",
          "text": [
            "10\n",
            "20\n",
            "30\n",
            "70\n"
          ]
        }
      ]
    },
    {
      "cell_type": "code",
      "source": [
        "a=[1,2,3]\n",
        "for i in a:\n",
        "  for j in a:\n",
        "    print (i,'x',j,'=',i*j)"
      ],
      "metadata": {
        "colab": {
          "base_uri": "https://localhost:8080/"
        },
        "id": "MgXhD1PASZ2a",
        "outputId": "3aedd86f-590e-4ba4-ecf3-320bc7fc5038"
      },
      "execution_count": 28,
      "outputs": [
        {
          "output_type": "stream",
          "name": "stdout",
          "text": [
            "1 x 1 = 1\n",
            "1 x 2 = 2\n",
            "1 x 3 = 3\n",
            "2 x 1 = 2\n",
            "2 x 2 = 4\n",
            "2 x 3 = 6\n",
            "3 x 1 = 3\n",
            "3 x 2 = 6\n",
            "3 x 3 = 9\n"
          ]
        }
      ]
    },
    {
      "cell_type": "code",
      "source": [
        "a = [1,2,3]\n",
        "print(len(a))"
      ],
      "metadata": {
        "colab": {
          "base_uri": "https://localhost:8080/"
        },
        "id": "FcW4MR7ySe9n",
        "outputId": "65e2134f-1ef4-4dd4-fefe-cde2cea6210a"
      },
      "execution_count": 29,
      "outputs": [
        {
          "output_type": "stream",
          "name": "stdout",
          "text": [
            "3\n"
          ]
        }
      ]
    },
    {
      "cell_type": "code",
      "source": [
        "b = list(range(10))\n",
        "c = list(range(10,20))\n",
        "d = list(range(20,30,2))\n",
        "b,c,d"
      ],
      "metadata": {
        "colab": {
          "base_uri": "https://localhost:8080/"
        },
        "id": "3LlTZ9jBSoUi",
        "outputId": "a5f60f27-5dd0-4921-e211-3479fdd4f243"
      },
      "execution_count": 32,
      "outputs": [
        {
          "output_type": "execute_result",
          "data": {
            "text/plain": [
              "([0, 1, 2, 3, 4, 5, 6, 7, 8, 9],\n",
              " [10, 11, 12, 13, 14, 15, 16, 17, 18, 19],\n",
              " [20, 22, 24, 26, 28])"
            ]
          },
          "metadata": {},
          "execution_count": 32
        }
      ]
    },
    {
      "cell_type": "code",
      "source": [
        "def add2(x,y):\n",
        "  n= x + y\n",
        "  return n"
      ],
      "metadata": {
        "id": "k2GH9OK2SyHZ"
      },
      "execution_count": 33,
      "outputs": []
    },
    {
      "cell_type": "code",
      "source": [
        "hap = add2(1,2)\n",
        "print(hap)\n",
        "hap"
      ],
      "metadata": {
        "colab": {
          "base_uri": "https://localhost:8080/"
        },
        "id": "5qtsf8GmTC-9",
        "outputId": "d148534c-466a-49b8-9666-616addd0b162"
      },
      "execution_count": 34,
      "outputs": [
        {
          "output_type": "stream",
          "name": "stdout",
          "text": [
            "3\n"
          ]
        },
        {
          "output_type": "execute_result",
          "data": {
            "text/plain": [
              "3"
            ]
          },
          "metadata": {},
          "execution_count": 34
        }
      ]
    },
    {
      "cell_type": "code",
      "source": [
        "def testreturn(x,y,z=1):\n",
        "  print(x)\n",
        "  print(y)\n",
        "  print(z)\n",
        "\n",
        "a = testreturn(1,2)\n",
        "print(a)"
      ],
      "metadata": {
        "colab": {
          "base_uri": "https://localhost:8080/"
        },
        "id": "3ZLmXrhjTGVx",
        "outputId": "5445d0ac-bf46-4f41-debb-71b9ab538d16"
      },
      "execution_count": 36,
      "outputs": [
        {
          "output_type": "stream",
          "name": "stdout",
          "text": [
            "1\n",
            "2\n",
            "1\n",
            "None\n"
          ]
        }
      ]
    },
    {
      "cell_type": "code",
      "source": [
        "def add_mul(x,y):\n",
        "  a = x + y\n",
        "  b = x * y\n",
        "  return a,b"
      ],
      "metadata": {
        "id": "cZG5OKYYTqmP"
      },
      "execution_count": 37,
      "outputs": []
    },
    {
      "cell_type": "code",
      "source": [
        "a = add_mul(1,2)\n",
        "print(a)\n",
        "print(type(a))"
      ],
      "metadata": {
        "colab": {
          "base_uri": "https://localhost:8080/"
        },
        "id": "pJpG6eeSULTq",
        "outputId": "b7fe0f0b-101b-47bd-a035-8b7d9c0a4613"
      },
      "execution_count": 40,
      "outputs": [
        {
          "output_type": "stream",
          "name": "stdout",
          "text": [
            "(3, 2)\n",
            "<class 'tuple'>\n"
          ]
        }
      ]
    },
    {
      "cell_type": "code",
      "source": [
        "b,c = add_mul(1,2)\n",
        "print(b,c)\n",
        "print(type(b),type(c))"
      ],
      "metadata": {
        "colab": {
          "base_uri": "https://localhost:8080/"
        },
        "id": "U8fw-REcUNZ2",
        "outputId": "6087be1f-19e9-4ebc-8cb0-5e80daacd374"
      },
      "execution_count": 44,
      "outputs": [
        {
          "output_type": "stream",
          "name": "stdout",
          "text": [
            "3 2\n",
            "<class 'int'> <class 'int'>\n"
          ]
        }
      ]
    },
    {
      "cell_type": "code",
      "source": [
        "def test(*args):\n",
        "  print(type(*args))\n",
        "  for item in args:\n",
        "    print(item)\n",
        "\n",
        "test()\n",
        "test(1)\n",
        "test(1,2)\n"
      ],
      "metadata": {
        "colab": {
          "base_uri": "https://localhost:8080/"
        },
        "id": "BczBHDjTUYGZ",
        "outputId": "3347e428-f240-427d-8afb-2f7db5381407"
      },
      "execution_count": 46,
      "outputs": [
        {
          "output_type": "stream",
          "name": "stdout",
          "text": [
            "<class 'tuple'>\n",
            "<class 'tuple'>\n",
            "1\n",
            "<class 'tuple'>\n",
            "1\n",
            "2\n"
          ]
        }
      ]
    },
    {
      "cell_type": "code",
      "source": [
        "def test2(**x):\n",
        "  print(type(x))\n",
        "  for key in x:\n",
        "    print(key,x[key])\n"
      ],
      "metadata": {
        "id": "DI4hbDlgU_Cs"
      },
      "execution_count": 51,
      "outputs": []
    },
    {
      "cell_type": "code",
      "source": [
        "test2(a=1,b=2,c=3,d=4,name='hong')"
      ],
      "metadata": {
        "colab": {
          "base_uri": "https://localhost:8080/"
        },
        "id": "n5RwEd98Vv5s",
        "outputId": "93ba52d5-d36e-440f-ff15-615eefc3a17b"
      },
      "execution_count": 52,
      "outputs": [
        {
          "output_type": "stream",
          "name": "stdout",
          "text": [
            "<class 'dict'>\n",
            "a 1\n",
            "b 2\n",
            "c 3\n",
            "d 4\n",
            "name hong\n"
          ]
        }
      ]
    },
    {
      "cell_type": "code",
      "source": [
        "a = \"온도 : {}, 습도 : {}\".format(10,20)\n",
        "print(a)"
      ],
      "metadata": {
        "colab": {
          "base_uri": "https://localhost:8080/"
        },
        "id": "dUVfM7E3V0GV",
        "outputId": "6600fd22-5604-4d58-d93e-e44407ae95e9"
      },
      "execution_count": 53,
      "outputs": [
        {
          "output_type": "stream",
          "name": "stdout",
          "text": [
            "온도 : 10, 습도 : 20\n"
          ]
        }
      ]
    },
    {
      "cell_type": "code",
      "source": [
        "square2 = lambda x:x**2\n",
        "print(square2(2))\n",
        "print(type(square2))\n",
        "type(square2)"
      ],
      "metadata": {
        "colab": {
          "base_uri": "https://localhost:8080/"
        },
        "id": "a5RXNd1NWzqx",
        "outputId": "b3f3fa66-a4e5-48f9-ad78-cfbe99094e5b"
      },
      "execution_count": 56,
      "outputs": [
        {
          "output_type": "stream",
          "name": "stdout",
          "text": [
            "4\n",
            "<class 'function'>\n"
          ]
        },
        {
          "output_type": "execute_result",
          "data": {
            "text/plain": [
              "function"
            ]
          },
          "metadata": {},
          "execution_count": 56
        }
      ]
    },
    {
      "cell_type": "code",
      "source": [
        "string = ['bob','charles','teddy']\n",
        "string.sort()\n",
        "print(string)"
      ],
      "metadata": {
        "colab": {
          "base_uri": "https://localhost:8080/"
        },
        "id": "7EUZZ_0EW-Go",
        "outputId": "22ec01ba-8968-48bf-a38f-50e713b1fe08"
      },
      "execution_count": 57,
      "outputs": [
        {
          "output_type": "stream",
          "name": "stdout",
          "text": [
            "['bob', 'charles', 'teddy']\n"
          ]
        }
      ]
    },
    {
      "cell_type": "code",
      "source": [
        "len(string)"
      ],
      "metadata": {
        "colab": {
          "base_uri": "https://localhost:8080/"
        },
        "id": "hY8_Fp00XP2y",
        "outputId": "40fe1bcc-9171-44a7-9e93-9830236832ee"
      },
      "execution_count": 58,
      "outputs": [
        {
          "output_type": "execute_result",
          "data": {
            "text/plain": [
              "3"
            ]
          },
          "metadata": {},
          "execution_count": 58
        }
      ]
    },
    {
      "cell_type": "code",
      "source": [
        "def str_len(s):\n",
        "  return len(s)\n",
        "string.sort(key = str_len)\n",
        "print(string)"
      ],
      "metadata": {
        "colab": {
          "base_uri": "https://localhost:8080/"
        },
        "id": "zNAe_MGjXcqv",
        "outputId": "a2f6e260-81c3-4b66-a5cf-46c9ad7da52b"
      },
      "execution_count": 65,
      "outputs": [
        {
          "output_type": "stream",
          "name": "stdout",
          "text": [
            "['bob', 'teddy', 'charles']\n"
          ]
        }
      ]
    },
    {
      "cell_type": "code",
      "source": [
        "string.sort(key=lambda s:len(s))\n",
        "print(string)"
      ],
      "metadata": {
        "colab": {
          "base_uri": "https://localhost:8080/"
        },
        "id": "ci2yrSJZXkFX",
        "outputId": "8af8c3e3-7594-4dd4-be88-44712045e7ca"
      },
      "execution_count": 66,
      "outputs": [
        {
          "output_type": "stream",
          "name": "stdout",
          "text": [
            "['bob', 'teddy', 'charles']\n"
          ]
        }
      ]
    },
    {
      "cell_type": "code",
      "source": [
        "def even(n):\n",
        "  return n%2==0\n",
        "\n",
        "a = [10,13,2,3,8,9,17]\n",
        "b = list(filter(even,a))\n",
        "print(b)"
      ],
      "metadata": {
        "colab": {
          "base_uri": "https://localhost:8080/"
        },
        "id": "sm95UeT7X_El",
        "outputId": "1ad8e797-26f1-4506-a10f-2fc9548156f2"
      },
      "execution_count": 67,
      "outputs": [
        {
          "output_type": "stream",
          "name": "stdout",
          "text": [
            "[10, 2, 8]\n"
          ]
        }
      ]
    },
    {
      "cell_type": "code",
      "source": [
        "a = [10,13,2,3,8,9,17]\n",
        "b = list(filter(lambda n:n%2==0,a))\n",
        "print(b)"
      ],
      "metadata": {
        "colab": {
          "base_uri": "https://localhost:8080/"
        },
        "id": "lztOR_ngZW3c",
        "outputId": "b5f54c6d-c6b3-42eb-ee19-5ab5d03ca7f0"
      },
      "execution_count": 68,
      "outputs": [
        {
          "output_type": "stream",
          "name": "stdout",
          "text": [
            "[10, 2, 8]\n"
          ]
        }
      ]
    },
    {
      "cell_type": "code",
      "source": [
        "a = [10,13,2,3,8,9,17]\n",
        "b = list(map(lambda n:n%2==0,a))\n",
        "print(b)"
      ],
      "metadata": {
        "colab": {
          "base_uri": "https://localhost:8080/"
        },
        "id": "-BiZ64ZAZdpY",
        "outputId": "ab96e8a7-1ab1-4225-e58b-d3d32941960e"
      },
      "execution_count": 69,
      "outputs": [
        {
          "output_type": "stream",
          "name": "stdout",
          "text": [
            "[True, False, True, False, True, False, False]\n"
          ]
        }
      ]
    },
    {
      "cell_type": "code",
      "source": [
        "a = [10,13,2,3,8,9,17]\n",
        "b = list(map(lambda n:n**2,a))\n",
        "print(b)"
      ],
      "metadata": {
        "colab": {
          "base_uri": "https://localhost:8080/"
        },
        "id": "0NIhMPlEZkkb",
        "outputId": "7b5b027b-683d-46f7-eed9-4dd7a08a0ba6"
      },
      "execution_count": 70,
      "outputs": [
        {
          "output_type": "stream",
          "name": "stdout",
          "text": [
            "[100, 169, 4, 9, 64, 81, 289]\n"
          ]
        }
      ]
    },
    {
      "cell_type": "code",
      "source": [
        "def mean(nums):\n",
        "  sum = 0\n",
        "  for i in nums:\n",
        "    sum += i\n",
        "  return sum/len(nums)\n",
        "\n",
        "a = range(100)\n",
        "b = mean(a)\n",
        "print(b)"
      ],
      "metadata": {
        "colab": {
          "base_uri": "https://localhost:8080/"
        },
        "id": "iV0tGEbzZprZ",
        "outputId": "ddd7c906-3d5a-4e47-e5d4-9de6a2f6eac1"
      },
      "execution_count": 71,
      "outputs": [
        {
          "output_type": "stream",
          "name": "stdout",
          "text": [
            "49.5\n"
          ]
        }
      ]
    },
    {
      "cell_type": "code",
      "source": [
        "def is_prime(num):\n",
        "  for i in range(2,num):\n",
        "    if num%i == 0:\n",
        "      return False\n",
        "  return True\n",
        "\n",
        "print(is_prime(5))\n",
        "print(is_prime(25))"
      ],
      "metadata": {
        "colab": {
          "base_uri": "https://localhost:8080/"
        },
        "id": "khs7E3IUaJkX",
        "outputId": "ed1bcef2-7e17-4668-b169-5904964c3961"
      },
      "execution_count": 91,
      "outputs": [
        {
          "output_type": "stream",
          "name": "stdout",
          "text": [
            "True\n",
            "False\n"
          ]
        }
      ]
    },
    {
      "cell_type": "code",
      "source": [
        "def num_prime(num):\n",
        "  count = 0\n",
        "  for i in range(2,num+1):\n",
        "    if is_prime(i):\n",
        "      count += 1\n",
        "  return count\n",
        "\n",
        "print(num_prime(5))\n",
        "print(num_prime(7))\n",
        "print(num_prime(100))"
      ],
      "metadata": {
        "colab": {
          "base_uri": "https://localhost:8080/"
        },
        "id": "9B8LiXxAadtK",
        "outputId": "347c532c-063a-4d73-8ff4-4f79019d661c"
      },
      "execution_count": 82,
      "outputs": [
        {
          "output_type": "stream",
          "name": "stdout",
          "text": [
            "3\n",
            "4\n",
            "25\n"
          ]
        }
      ]
    },
    {
      "cell_type": "code",
      "source": [
        "# def num_prime2(nums):\n",
        "#   count = 0\n",
        "#   primelist = []\n",
        "#   for i in range(2,nums+1):\n",
        "#     if is_prime(i):\n",
        "#       count += 1\n",
        "#       primelist.append(i)\n",
        "#   return count,primelist\n"
      ],
      "metadata": {
        "id": "rkyNs7lDa7ds"
      },
      "execution_count": 98,
      "outputs": []
    },
    {
      "cell_type": "code",
      "source": [
        "num, primelist = num_prime(10)\n",
        "print(num)\n",
        "print(primelist)"
      ],
      "metadata": {
        "colab": {
          "base_uri": "https://localhost:8080/"
        },
        "id": "FJb0AMCLbN5S",
        "outputId": "2451bddf-1b5e-487a-ec11-3be1d177af1b"
      },
      "execution_count": 100,
      "outputs": [
        {
          "output_type": "stream",
          "name": "stdout",
          "text": [
            "4\n",
            "<function num_prime at 0x7fef1ed1ff60>\n"
          ]
        }
      ]
    },
    {
      "cell_type": "code",
      "source": [
        "def num_prime(nums):\n",
        "    count = 0\n",
        "    primeNum = []\n",
        "    for num in range(2,nums+1):\n",
        "        if is_prime(num):\n",
        "            count += 1\n",
        "            primeNum.append(num)\n",
        "    return count,primeNum\n",
        "\n",
        "num, primelist = num_prime(10)\n",
        "print(num)\n",
        "print(primelist)"
      ],
      "metadata": {
        "colab": {
          "base_uri": "https://localhost:8080/"
        },
        "id": "k57tRIN8cE6k",
        "outputId": "bb10ca6d-45c4-4558-8607-ade4e88fbf45"
      },
      "execution_count": 102,
      "outputs": [
        {
          "output_type": "stream",
          "name": "stdout",
          "text": [
            "4\n",
            "[2, 3, 5, 7]\n"
          ]
        }
      ]
    },
    {
      "cell_type": "code",
      "source": [
        "import math\n",
        "sin(100)"
      ],
      "metadata": {
        "colab": {
          "base_uri": "https://localhost:8080/"
        },
        "id": "zbbw97wycmQz",
        "outputId": "ddae0d9e-57ff-49d6-a4e5-8c08b124dd47"
      },
      "execution_count": 104,
      "outputs": [
        {
          "output_type": "execute_result",
          "data": {
            "text/plain": [
              "-0.5063656411097588"
            ]
          },
          "metadata": {},
          "execution_count": 104
        }
      ]
    },
    {
      "cell_type": "code",
      "source": [],
      "metadata": {
        "id": "OnKg5Qa9dL2m"
      },
      "execution_count": null,
      "outputs": []
    }
  ]
}