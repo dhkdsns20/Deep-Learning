{
 "cells": [
  {
   "cell_type": "markdown",
   "id": "57efaeee",
   "metadata": {},
   "source": [
    "### lambda 함수"
   ]
  },
  {
   "cell_type": "code",
   "execution_count": 13,
   "id": "fdd80d3a",
   "metadata": {
    "scrolled": true
   },
   "outputs": [
    {
     "name": "stdout",
     "output_type": "stream",
     "text": [
      "def 구조 이용한 함수 :  25\n",
      "lambda 이용한 함수 :  25\n",
      "<class 'function'>\n"
     ]
    }
   ],
   "source": [
    "def square_ver1(x) :\n",
    "    return x**2\n",
    "\n",
    "square_ver2 = lambda x:x**2\n",
    "\n",
    "print('def 구조 이용한 함수 : ', square_ver1(5))\n",
    "print('lambda 이용한 함수 : ', square_ver2(5))\n",
    "\n",
    "print(type(square_ver2)) # 이 객체는 함수이다. lambda로 만든 함수"
   ]
  },
  {
   "cell_type": "markdown",
   "id": "87130d5f",
   "metadata": {},
   "source": [
    "#### 함수 포인터 참고\n",
    "[참고](https://eprj453.github.io/2021/01/21/Python-%ED%95%A8%EC%88%98%EC%97%90%EC%84%9C-%EB%8B%A4%EB%A5%B8-%ED%95%A8%EC%88%98-%EB%B3%80%EC%88%98-%EC%A0%91%EA%B7%BC%ED%95%98%EA%B8%B0(c-%ED%8F%AC%EC%9D%B8%ED%84%B0%EC%B2%98%EB%9F%BC-%EC%82%AC%EC%9A%A9%ED%95%B4%EB%B3%B4%EA%B8%B0))"
   ]
  },
  {
   "cell_type": "code",
   "execution_count": 5,
   "id": "4e93c4bf",
   "metadata": {},
   "outputs": [
    {
     "data": {
      "text/plain": [
       "28"
      ]
     },
     "execution_count": 5,
     "metadata": {},
     "output_type": "execute_result"
    }
   ],
   "source": [
    "add = lambda x,y : x+y # sdd는 함수 포인터이다.\n",
    "\n",
    "add(23,5)"
   ]
  },
  {
   "cell_type": "code",
   "execution_count": 14,
   "id": "16fee3ad",
   "metadata": {},
   "outputs": [
    {
     "data": {
      "text/plain": [
       "7"
      ]
     },
     "execution_count": 14,
     "metadata": {},
     "output_type": "execute_result"
    }
   ],
   "source": [
    "strlen = lambda x : len(x)\n",
    "\n",
    "str = 'charles'\n",
    "\n",
    "strlen(str)"
   ]
  },
  {
   "cell_type": "code",
   "execution_count": 23,
   "id": "e7db53a8",
   "metadata": {},
   "outputs": [
    {
     "data": {
      "text/plain": [
       "['bob', 'jane', 'teddy', 'charles', 'alexander']"
      ]
     },
     "execution_count": 23,
     "metadata": {},
     "output_type": "execute_result"
    }
   ],
   "source": [
    "strings = ['bob', 'charles', 'alexander', 'teddy', 'jane']\n",
    "strings.sort(key = None, reverse = True)\n",
    "\n",
    "\n",
    "strings.sort(key = strlen)\n",
    "strings.sort(key = lambda y:len(y))\n",
    "strings"
   ]
  },
  {
   "cell_type": "markdown",
   "id": "6b4ed588",
   "metadata": {},
   "source": [
    "#### list 함수\n",
    "- 햠수 안 param 중 function이 들어간다!!\n",
    "- filter,map 등이 들어간다.\n",
    "    - 위의 것들은 함수의 특이한 형태이다."
   ]
  },
  {
   "cell_type": "code",
   "execution_count": 31,
   "id": "98c3fde0",
   "metadata": {},
   "outputs": [
    {
     "data": {
      "text/plain": [
       "filter"
      ]
     },
     "execution_count": 31,
     "metadata": {},
     "output_type": "execute_result"
    }
   ],
   "source": [
    "type(filter(lambda x:x%2==0, a))\n",
    "filter(lambda x:x%2==0, a) \n",
    "# filter는 python에 내장된 함수이며 '함수'와 '반복 가능한 객체'를 인자로 받는다.\n",
    "# 반복 가능한 객체의 요소에 대해서 filter 안 함수의 리턴값이 True인 것에 대한 요소만 가지고 있는다. , map함수도 비슷한 맥락"
   ]
  },
  {
   "cell_type": "code",
   "execution_count": 25,
   "id": "32507293",
   "metadata": {},
   "outputs": [
    {
     "data": {
      "text/plain": [
       "[2, 4, 6, 8, 10]"
      ]
     },
     "execution_count": 25,
     "metadata": {},
     "output_type": "execute_result"
    }
   ],
   "source": [
    "# iterator는 포인터\n",
    "a = [1,2,3,4,5,6,7,8,9,10]\n",
    "list(filter(lambda x:x%2==0, a))"
   ]
  },
  {
   "cell_type": "code",
   "execution_count": 27,
   "id": "07fe00ed",
   "metadata": {},
   "outputs": [
    {
     "data": {
      "text/plain": [
       "[1, 4, 9, 16, 25, 36, 49, 64, 81, 100]"
      ]
     },
     "execution_count": 27,
     "metadata": {},
     "output_type": "execute_result"
    }
   ],
   "source": [
    "a = [1,2,3,4,5,6,7,8,9,10]\n",
    "list(map(lambda x:x%2==0, a))\n",
    "\n",
    "a = [1,2,3,4,5,6,7,8,9,10]\n",
    "list(map(lambda x:x**2, a))"
   ]
  },
  {
   "cell_type": "code",
   "execution_count": 40,
   "id": "101b1297",
   "metadata": {},
   "outputs": [
    {
     "name": "stdout",
     "output_type": "stream",
     "text": [
      "<class 'range'>\n",
      "range(0, 10)\n",
      "4.5\n"
     ]
    }
   ],
   "source": [
    "def mean(nums) :\n",
    "    sum = 0\n",
    "    for i in nums:\n",
    "#         print(i)\n",
    "        sum += i\n",
    "#         print(sum)\n",
    "    return sum/len(nums)\n",
    "\n",
    "a = range(10)\n",
    "\n",
    "\n",
    "print(a)\n",
    "b = mean(a)\n",
    "print(b)"
   ]
  },
  {
   "cell_type": "markdown",
   "id": "8769aa4b",
   "metadata": {},
   "source": [
    "#### Question\n",
    "1. mean function에서 nums param은 type이 뭘까? \n",
    "    - Class라고 나오는데 객체인가???? o o"
   ]
  },
  {
   "cell_type": "code",
   "execution_count": 42,
   "id": "c6af7401",
   "metadata": {},
   "outputs": [
    {
     "name": "stdout",
     "output_type": "stream",
     "text": [
      "<class 'range'>\n",
      "<class 'list'>\n"
     ]
    }
   ],
   "source": [
    "print(type(a))\n",
    "print(type(list(a)))"
   ]
  },
  {
   "cell_type": "code",
   "execution_count": 44,
   "id": "14f073a3",
   "metadata": {},
   "outputs": [
    {
     "name": "stdout",
     "output_type": "stream",
     "text": [
      "True\n"
     ]
    }
   ],
   "source": [
    "def is_prime(num):\n",
    "\n",
    "    for i in range(2,num): # 소수는 '1'과 '자기자긴(num)'을 가지므로 두 개는 제외해야 한다.\n",
    "        if num % i == 0:\n",
    "            return False\n",
    "    return True\n",
    "\n",
    "\n",
    "print(is_prime(5))"
   ]
  },
  {
   "cell_type": "markdown",
   "id": "95f3ff64",
   "metadata": {},
   "source": [
    "### 안 보고 아래 코드 작성해보기\n",
    "### 1 ~ 100 중에 소수의 개수는 몇 개인가\n",
    "- 86번 code"
   ]
  },
  {
   "cell_type": "code",
   "execution_count": 53,
   "id": "6703a5d5",
   "metadata": {},
   "outputs": [
    {
     "name": "stdout",
     "output_type": "stream",
     "text": [
      "4\n",
      "[2, 3, 5, 7]\n"
     ]
    }
   ],
   "source": [
    "def num_prime(nums):\n",
    "    count = 0\n",
    "    primeNum = []\n",
    "    for num in range(2,nums+1):\n",
    "        if is_prime(num):\n",
    "            count += 1\n",
    "            primeNum.append(num)\n",
    "    return count,primeNum\n",
    "\n",
    "num, primelist = num_prime(10)\n",
    "print(num)\n",
    "print(primelist)"
   ]
  },
  {
   "cell_type": "markdown",
   "id": "3116d166",
   "metadata": {},
   "source": [
    "### Module"
   ]
  },
  {
   "cell_type": "markdown",
   "id": "5ffb653c",
   "metadata": {},
   "source": [
    "#### requests"
   ]
  },
  {
   "cell_type": "code",
   "execution_count": 3,
   "id": "454e8a01",
   "metadata": {},
   "outputs": [
    {
     "data": {
      "text/plain": [
       "'<!DOCTYPE html>\\n<html lang=\"ko\">\\n<head>\\n<!-- META -->\\n<meta charset=\"utf-8\">\\n<meta name=\"Generator\" '"
      ]
     },
     "execution_count": 3,
     "metadata": {},
     "output_type": "execute_result"
    }
   ],
   "source": [
    "import requests\n",
    "\n",
    "response = requests.get(\"http://inform.cbnu.ac.kr\")\n",
    "response.text[:100]"
   ]
  },
  {
   "cell_type": "markdown",
   "id": "dda51807",
   "metadata": {},
   "source": [
    "#### math"
   ]
  },
  {
   "cell_type": "code",
   "execution_count": 6,
   "id": "29de52d4",
   "metadata": {},
   "outputs": [
    {
     "data": {
      "text/plain": [
       "0.0015926529164868282"
      ]
     },
     "execution_count": 6,
     "metadata": {},
     "output_type": "execute_result"
    }
   ],
   "source": [
    "import math as m\n",
    "\n",
    "m.sin(3.14) # 1rad * ?값 ?값에 해당ㄴ\n",
    "# cf) 1rad = 180degree / pi"
   ]
  },
  {
   "cell_type": "code",
   "execution_count": 5,
   "id": "cc43d6d6-7fc0-469b-bc81-32f6197173d6",
   "metadata": {},
   "outputs": [
    {
     "data": {
      "text/plain": [
       "-0.9999999999997864"
      ]
     },
     "execution_count": 5,
     "metadata": {},
     "output_type": "execute_result"
    }
   ],
   "source": [
    "m.cos(3.141592)"
   ]
  },
  {
   "cell_type": "code",
   "execution_count": null,
   "id": "030c3c3b-b773-4d58-bb26-1f2499d93702",
   "metadata": {},
   "outputs": [],
   "source": []
  },
  {
   "cell_type": "code",
   "execution_count": 65,
   "id": "e366bfd6",
   "metadata": {},
   "outputs": [],
   "source": [
    "from math import sin, cos"
   ]
  },
  {
   "cell_type": "code",
   "execution_count": 1,
   "id": "8f61a95e",
   "metadata": {},
   "outputs": [
    {
     "ename": "NameError",
     "evalue": "name 'sin' is not defined",
     "output_type": "error",
     "traceback": [
      "\u001b[1;31m---------------------------------------------------------------------------\u001b[0m",
      "\u001b[1;31mNameError\u001b[0m                                 Traceback (most recent call last)",
      "Cell \u001b[1;32mIn[1], line 1\u001b[0m\n\u001b[1;32m----> 1\u001b[0m sin(\u001b[38;5;241m3.14\u001b[39m), cos(\u001b[38;5;241m3.14\u001b[39m)\n",
      "\u001b[1;31mNameError\u001b[0m: name 'sin' is not defined"
     ]
    }
   ],
   "source": [
    "sin(3.14), cos(3.14)"
   ]
  },
  {
   "cell_type": "code",
   "execution_count": 67,
   "id": "c750f7dd",
   "metadata": {},
   "outputs": [],
   "source": [
    "from math import *"
   ]
  }
 ],
 "metadata": {
  "kernelspec": {
   "display_name": "Python 3 (ipykernel)",
   "language": "python",
   "name": "python3"
  },
  "language_info": {
   "codemirror_mode": {
    "name": "ipython",
    "version": 3
   },
   "file_extension": ".py",
   "mimetype": "text/x-python",
   "name": "python",
   "nbconvert_exporter": "python",
   "pygments_lexer": "ipython3",
   "version": "3.12.7"
  }
 },
 "nbformat": 4,
 "nbformat_minor": 5
}
